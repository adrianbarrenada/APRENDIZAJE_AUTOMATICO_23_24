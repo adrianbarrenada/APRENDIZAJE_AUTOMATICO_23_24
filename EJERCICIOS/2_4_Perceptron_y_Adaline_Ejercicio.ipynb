{
  "cells": [
    {
      "cell_type": "markdown",
      "metadata": {
        "id": "nk9ElFsy-4VF"
      },
      "source": [
        "# Entrenando Algoritmos de Machine Learning para Clasificación"
      ]
    },
    {
      "cell_type": "markdown",
      "metadata": {
        "id": "uKn0A6h9-4VI"
      },
      "source": [
        "# Implementando un algoritmo de aprendizaje tipo Perceptrón en Python: Una API de Perceptrón orientada a Objetos"
      ]
    },
    {
      "cell_type": "code",
      "execution_count": 3,
      "metadata": {
        "tags": [],
        "id": "zlIdRrQe-4VI"
      },
      "outputs": [],
      "source": [
        "import numpy as np\n",
        "\n",
        "\n",
        "class Perceptron(object):\n",
        "    \"\"\"Clasificador basado en perceptron.\n",
        "\n",
        "     Parámetros\n",
        "     ------------\n",
        "     eta: float\n",
        "       Tasa de aprendizaje (entre 0,0 y 1,0)\n",
        "     n_iter: int\n",
        "       Pasos sobre el conjunto de datos de entrenamiento.\n",
        "     random_state: int\n",
        "       Semilla del generador de números aleatorios para\n",
        "       inicialización de los pesos de forma aleatoria.\n",
        "\n",
        "     Atributos\n",
        "     -----------\n",
        "     w_: matriz-1d (1d-array)\n",
        "       Pesos después del fitting.\n",
        "     errors_: list\n",
        "       Número de clasificaciones erróneas (actualizaciones) en cada época.\n",
        "\n",
        "     \"\"\"\n",
        "    def __init__(self, eta=0.01, n_iter=50, random_state=1):#el método init se llama cuando se crea una instancia de la clase perceptron\n",
        "    #eta es la tasa de aprendizaje, n_iter es el número de pasos sobre los datos de entrenamiento, random_state es la semilla para generar números\n",
        "    #aleatorios que se utiliza para inicializar los pesos\n",
        "        self.eta = eta\n",
        "        self.n_iter = n_iter\n",
        "        self.random_state = random_state\n",
        "\n",
        "    def fit(self, X, y):\n",
        "      #X son los vectores de entrenamiento e y son los valores objetivo\n",
        "        \"\"\"Ajustar pesos con los datos de entrenamiento.\n",
        "\n",
        "         Parámetros\n",
        "         ----------\n",
        "         X: {tipo-array}, shape = [n_samples, n_features]\n",
        "           Vectores de entrenamiento, donde n_samples es el número de muestras y\n",
        "           n_features es el número de características.\n",
        "         y: tipo-array, shape = [n_samples]\n",
        "           Valores objetivo.\n",
        "\n",
        "         Retorno\n",
        "         -------\n",
        "         self: objet\n",
        "\n",
        "         \"\"\"\n",
        "        rgen = np.random.RandomState(self.random_state)\n",
        "        self.w_ = rgen.normal(loc=0.0, scale=0.01, size=1 + X.shape[1])\n",
        "        #^^^se inicializan los pesos de forma aleatoria usando una distribución normal con media = 0 y desv. = 0.01. Además se agrega el sesgo\n",
        "        self.errors_ = [] #errores que se van almacenando en cada iteración\n",
        "\n",
        "        for _ in range(self.n_iter):\n",
        "            errors = 0\n",
        "            for xi, target in zip(X, y):#lo que hace zip es crear parejas de vectores xi que representan cada\n",
        "            #una de las muestras de la matriz de entrenamiento y de números target que son las etiquetas de de cada\n",
        "            #muestra de entrenamiento\n",
        "               #output = np.dot(xi, self.w_[1:]) + self.w_[0]\n",
        "                #update = self.eta * (target - np.where(output >= 0.0, 1, -1) )\n",
        "                update = self.eta * (target - self.predict(xi))\n",
        "                self.w_[1:] += update * xi #xi es cada una de las filas de la matriz de entrenamiento\n",
        "                self.w_[0] += update\n",
        "                errors += int(update != 0.0)\n",
        "            self.errors_.append(errors)\n",
        "        return self\n",
        "\n",
        "    def net_input(self, X):\n",
        "        \"\"\"Calcular la entrada neta\"\"\"\n",
        "        #net_input calcula la variación de cada elemento de la matriz de pesos\n",
        "        return np.dot(X, self.w_[1:]) + self.w_[0]\n",
        "\n",
        "    def predict(self, X):\n",
        "        \"\"\"Devolver etiqueta de clase después del paso unitario\"\"\"\n",
        "        #predict devuelve la predicción de acuerdo con la entrada (xi) y la matriz de pesos\n",
        "        return np.where(self.net_input(X) >= 0.0, 1, -1)"
      ]
    },
    {
      "cell_type": "code",
      "execution_count": 4,
      "metadata": {
        "id": "DVc2cDfC-4VJ",
        "outputId": "8a3c5344-f51b-4aa5-be09-ce1a2f11b2cd",
        "colab": {
          "base_uri": "https://localhost:8080/"
        }
      },
      "outputs": [
        {
          "output_type": "execute_result",
          "data": {
            "text/plain": [
              "0.0"
            ]
          },
          "metadata": {},
          "execution_count": 4
        }
      ],
      "source": [
        "v1 = np.array([1, 2, 3])\n",
        "v2 = 0.5 * v1\n",
        "np.arccos(v1.dot(v2) / (np.linalg.norm(v1) * np.linalg.norm(v2)))"
      ]
    },
    {
      "cell_type": "markdown",
      "metadata": {
        "id": "O4GAEcPP-4VK"
      },
      "source": [
        "## Entrenando un modelo de Perceptrón en el conjunto de datos Iris"
      ]
    },
    {
      "cell_type": "markdown",
      "metadata": {
        "id": "05U3oX89-4VK"
      },
      "source": [
        "### Leyendo el dataset Iris"
      ]
    },
    {
      "cell_type": "code",
      "execution_count": 5,
      "metadata": {
        "id": "USngaFRq-4VK",
        "outputId": "4e13b14e-492d-4c56-85ce-df16957195b6",
        "colab": {
          "base_uri": "https://localhost:8080/",
          "height": 206
        }
      },
      "outputs": [
        {
          "output_type": "execute_result",
          "data": {
            "text/plain": [
              "       0    1    2    3               4\n",
              "145  6.7  3.0  5.2  2.3  Iris-virginica\n",
              "146  6.3  2.5  5.0  1.9  Iris-virginica\n",
              "147  6.5  3.0  5.2  2.0  Iris-virginica\n",
              "148  6.2  3.4  5.4  2.3  Iris-virginica\n",
              "149  5.9  3.0  5.1  1.8  Iris-virginica"
            ],
            "text/html": [
              "\n",
              "  <div id=\"df-4f2474d3-8625-45ab-8282-9d49fd2888fd\" class=\"colab-df-container\">\n",
              "    <div>\n",
              "<style scoped>\n",
              "    .dataframe tbody tr th:only-of-type {\n",
              "        vertical-align: middle;\n",
              "    }\n",
              "\n",
              "    .dataframe tbody tr th {\n",
              "        vertical-align: top;\n",
              "    }\n",
              "\n",
              "    .dataframe thead th {\n",
              "        text-align: right;\n",
              "    }\n",
              "</style>\n",
              "<table border=\"1\" class=\"dataframe\">\n",
              "  <thead>\n",
              "    <tr style=\"text-align: right;\">\n",
              "      <th></th>\n",
              "      <th>0</th>\n",
              "      <th>1</th>\n",
              "      <th>2</th>\n",
              "      <th>3</th>\n",
              "      <th>4</th>\n",
              "    </tr>\n",
              "  </thead>\n",
              "  <tbody>\n",
              "    <tr>\n",
              "      <th>145</th>\n",
              "      <td>6.7</td>\n",
              "      <td>3.0</td>\n",
              "      <td>5.2</td>\n",
              "      <td>2.3</td>\n",
              "      <td>Iris-virginica</td>\n",
              "    </tr>\n",
              "    <tr>\n",
              "      <th>146</th>\n",
              "      <td>6.3</td>\n",
              "      <td>2.5</td>\n",
              "      <td>5.0</td>\n",
              "      <td>1.9</td>\n",
              "      <td>Iris-virginica</td>\n",
              "    </tr>\n",
              "    <tr>\n",
              "      <th>147</th>\n",
              "      <td>6.5</td>\n",
              "      <td>3.0</td>\n",
              "      <td>5.2</td>\n",
              "      <td>2.0</td>\n",
              "      <td>Iris-virginica</td>\n",
              "    </tr>\n",
              "    <tr>\n",
              "      <th>148</th>\n",
              "      <td>6.2</td>\n",
              "      <td>3.4</td>\n",
              "      <td>5.4</td>\n",
              "      <td>2.3</td>\n",
              "      <td>Iris-virginica</td>\n",
              "    </tr>\n",
              "    <tr>\n",
              "      <th>149</th>\n",
              "      <td>5.9</td>\n",
              "      <td>3.0</td>\n",
              "      <td>5.1</td>\n",
              "      <td>1.8</td>\n",
              "      <td>Iris-virginica</td>\n",
              "    </tr>\n",
              "  </tbody>\n",
              "</table>\n",
              "</div>\n",
              "    <div class=\"colab-df-buttons\">\n",
              "\n",
              "  <div class=\"colab-df-container\">\n",
              "    <button class=\"colab-df-convert\" onclick=\"convertToInteractive('df-4f2474d3-8625-45ab-8282-9d49fd2888fd')\"\n",
              "            title=\"Convert this dataframe to an interactive table.\"\n",
              "            style=\"display:none;\">\n",
              "\n",
              "  <svg xmlns=\"http://www.w3.org/2000/svg\" height=\"24px\" viewBox=\"0 -960 960 960\">\n",
              "    <path d=\"M120-120v-720h720v720H120Zm60-500h600v-160H180v160Zm220 220h160v-160H400v160Zm0 220h160v-160H400v160ZM180-400h160v-160H180v160Zm440 0h160v-160H620v160ZM180-180h160v-160H180v160Zm440 0h160v-160H620v160Z\"/>\n",
              "  </svg>\n",
              "    </button>\n",
              "\n",
              "  <style>\n",
              "    .colab-df-container {\n",
              "      display:flex;\n",
              "      gap: 12px;\n",
              "    }\n",
              "\n",
              "    .colab-df-convert {\n",
              "      background-color: #E8F0FE;\n",
              "      border: none;\n",
              "      border-radius: 50%;\n",
              "      cursor: pointer;\n",
              "      display: none;\n",
              "      fill: #1967D2;\n",
              "      height: 32px;\n",
              "      padding: 0 0 0 0;\n",
              "      width: 32px;\n",
              "    }\n",
              "\n",
              "    .colab-df-convert:hover {\n",
              "      background-color: #E2EBFA;\n",
              "      box-shadow: 0px 1px 2px rgba(60, 64, 67, 0.3), 0px 1px 3px 1px rgba(60, 64, 67, 0.15);\n",
              "      fill: #174EA6;\n",
              "    }\n",
              "\n",
              "    .colab-df-buttons div {\n",
              "      margin-bottom: 4px;\n",
              "    }\n",
              "\n",
              "    [theme=dark] .colab-df-convert {\n",
              "      background-color: #3B4455;\n",
              "      fill: #D2E3FC;\n",
              "    }\n",
              "\n",
              "    [theme=dark] .colab-df-convert:hover {\n",
              "      background-color: #434B5C;\n",
              "      box-shadow: 0px 1px 3px 1px rgba(0, 0, 0, 0.15);\n",
              "      filter: drop-shadow(0px 1px 2px rgba(0, 0, 0, 0.3));\n",
              "      fill: #FFFFFF;\n",
              "    }\n",
              "  </style>\n",
              "\n",
              "    <script>\n",
              "      const buttonEl =\n",
              "        document.querySelector('#df-4f2474d3-8625-45ab-8282-9d49fd2888fd button.colab-df-convert');\n",
              "      buttonEl.style.display =\n",
              "        google.colab.kernel.accessAllowed ? 'block' : 'none';\n",
              "\n",
              "      async function convertToInteractive(key) {\n",
              "        const element = document.querySelector('#df-4f2474d3-8625-45ab-8282-9d49fd2888fd');\n",
              "        const dataTable =\n",
              "          await google.colab.kernel.invokeFunction('convertToInteractive',\n",
              "                                                    [key], {});\n",
              "        if (!dataTable) return;\n",
              "\n",
              "        const docLinkHtml = 'Like what you see? Visit the ' +\n",
              "          '<a target=\"_blank\" href=https://colab.research.google.com/notebooks/data_table.ipynb>data table notebook</a>'\n",
              "          + ' to learn more about interactive tables.';\n",
              "        element.innerHTML = '';\n",
              "        dataTable['output_type'] = 'display_data';\n",
              "        await google.colab.output.renderOutput(dataTable, element);\n",
              "        const docLink = document.createElement('div');\n",
              "        docLink.innerHTML = docLinkHtml;\n",
              "        element.appendChild(docLink);\n",
              "      }\n",
              "    </script>\n",
              "  </div>\n",
              "\n",
              "\n",
              "<div id=\"df-b0b8403f-031f-4691-8fc7-ad99b20acb86\">\n",
              "  <button class=\"colab-df-quickchart\" onclick=\"quickchart('df-b0b8403f-031f-4691-8fc7-ad99b20acb86')\"\n",
              "            title=\"Suggest charts.\"\n",
              "            style=\"display:none;\">\n",
              "\n",
              "<svg xmlns=\"http://www.w3.org/2000/svg\" height=\"24px\"viewBox=\"0 0 24 24\"\n",
              "     width=\"24px\">\n",
              "    <g>\n",
              "        <path d=\"M19 3H5c-1.1 0-2 .9-2 2v14c0 1.1.9 2 2 2h14c1.1 0 2-.9 2-2V5c0-1.1-.9-2-2-2zM9 17H7v-7h2v7zm4 0h-2V7h2v10zm4 0h-2v-4h2v4z\"/>\n",
              "    </g>\n",
              "</svg>\n",
              "  </button>\n",
              "\n",
              "<style>\n",
              "  .colab-df-quickchart {\n",
              "      --bg-color: #E8F0FE;\n",
              "      --fill-color: #1967D2;\n",
              "      --hover-bg-color: #E2EBFA;\n",
              "      --hover-fill-color: #174EA6;\n",
              "      --disabled-fill-color: #AAA;\n",
              "      --disabled-bg-color: #DDD;\n",
              "  }\n",
              "\n",
              "  [theme=dark] .colab-df-quickchart {\n",
              "      --bg-color: #3B4455;\n",
              "      --fill-color: #D2E3FC;\n",
              "      --hover-bg-color: #434B5C;\n",
              "      --hover-fill-color: #FFFFFF;\n",
              "      --disabled-bg-color: #3B4455;\n",
              "      --disabled-fill-color: #666;\n",
              "  }\n",
              "\n",
              "  .colab-df-quickchart {\n",
              "    background-color: var(--bg-color);\n",
              "    border: none;\n",
              "    border-radius: 50%;\n",
              "    cursor: pointer;\n",
              "    display: none;\n",
              "    fill: var(--fill-color);\n",
              "    height: 32px;\n",
              "    padding: 0;\n",
              "    width: 32px;\n",
              "  }\n",
              "\n",
              "  .colab-df-quickchart:hover {\n",
              "    background-color: var(--hover-bg-color);\n",
              "    box-shadow: 0 1px 2px rgba(60, 64, 67, 0.3), 0 1px 3px 1px rgba(60, 64, 67, 0.15);\n",
              "    fill: var(--button-hover-fill-color);\n",
              "  }\n",
              "\n",
              "  .colab-df-quickchart-complete:disabled,\n",
              "  .colab-df-quickchart-complete:disabled:hover {\n",
              "    background-color: var(--disabled-bg-color);\n",
              "    fill: var(--disabled-fill-color);\n",
              "    box-shadow: none;\n",
              "  }\n",
              "\n",
              "  .colab-df-spinner {\n",
              "    border: 2px solid var(--fill-color);\n",
              "    border-color: transparent;\n",
              "    border-bottom-color: var(--fill-color);\n",
              "    animation:\n",
              "      spin 1s steps(1) infinite;\n",
              "  }\n",
              "\n",
              "  @keyframes spin {\n",
              "    0% {\n",
              "      border-color: transparent;\n",
              "      border-bottom-color: var(--fill-color);\n",
              "      border-left-color: var(--fill-color);\n",
              "    }\n",
              "    20% {\n",
              "      border-color: transparent;\n",
              "      border-left-color: var(--fill-color);\n",
              "      border-top-color: var(--fill-color);\n",
              "    }\n",
              "    30% {\n",
              "      border-color: transparent;\n",
              "      border-left-color: var(--fill-color);\n",
              "      border-top-color: var(--fill-color);\n",
              "      border-right-color: var(--fill-color);\n",
              "    }\n",
              "    40% {\n",
              "      border-color: transparent;\n",
              "      border-right-color: var(--fill-color);\n",
              "      border-top-color: var(--fill-color);\n",
              "    }\n",
              "    60% {\n",
              "      border-color: transparent;\n",
              "      border-right-color: var(--fill-color);\n",
              "    }\n",
              "    80% {\n",
              "      border-color: transparent;\n",
              "      border-right-color: var(--fill-color);\n",
              "      border-bottom-color: var(--fill-color);\n",
              "    }\n",
              "    90% {\n",
              "      border-color: transparent;\n",
              "      border-bottom-color: var(--fill-color);\n",
              "    }\n",
              "  }\n",
              "</style>\n",
              "\n",
              "  <script>\n",
              "    async function quickchart(key) {\n",
              "      const quickchartButtonEl =\n",
              "        document.querySelector('#' + key + ' button');\n",
              "      quickchartButtonEl.disabled = true;  // To prevent multiple clicks.\n",
              "      quickchartButtonEl.classList.add('colab-df-spinner');\n",
              "      try {\n",
              "        const charts = await google.colab.kernel.invokeFunction(\n",
              "            'suggestCharts', [key], {});\n",
              "      } catch (error) {\n",
              "        console.error('Error during call to suggestCharts:', error);\n",
              "      }\n",
              "      quickchartButtonEl.classList.remove('colab-df-spinner');\n",
              "      quickchartButtonEl.classList.add('colab-df-quickchart-complete');\n",
              "    }\n",
              "    (() => {\n",
              "      let quickchartButtonEl =\n",
              "        document.querySelector('#df-b0b8403f-031f-4691-8fc7-ad99b20acb86 button');\n",
              "      quickchartButtonEl.style.display =\n",
              "        google.colab.kernel.accessAllowed ? 'block' : 'none';\n",
              "    })();\n",
              "  </script>\n",
              "</div>\n",
              "    </div>\n",
              "  </div>\n"
            ]
          },
          "metadata": {},
          "execution_count": 5
        }
      ],
      "source": [
        "import pandas as pd\n",
        "\n",
        "df = pd.read_csv('https://archive.ics.uci.edu/ml/'\n",
        "        'machine-learning-databases/iris/iris.data', header=None)\n",
        "df.tail()\n"
      ]
    },
    {
      "cell_type": "markdown",
      "metadata": {
        "id": "AjItQl_A-4VL"
      },
      "source": [
        "<hr>\n",
        "\n",
        "### Nota:\n",
        "Si tenéis el fichero ya descargado en un directorio local, por ejemplo en \"your/local/path/to/iris.data\" podéis sustituir la anterior línea de código...\n",
        "\n",
        "    df = pd.read_csv('https://archive.ics.uci.edu/ml/'\n",
        "        'machine-learning-databases/iris/iris.data', header=None)\n",
        "\n",
        "por...\n",
        "\n",
        "    df = pd.read_csv('your/local/path/to/iris.data', header=None)\n"
      ]
    },
    {
      "cell_type": "markdown",
      "metadata": {
        "id": "Zg9n2Jy9-4VL"
      },
      "source": [
        "<hr>"
      ]
    },
    {
      "cell_type": "markdown",
      "metadata": {
        "id": "a5KbF1z--4VL"
      },
      "source": [
        "### Pintando los datos de Iris"
      ]
    },
    {
      "cell_type": "code",
      "execution_count": 6,
      "metadata": {
        "id": "KbmjzHHD-4VL",
        "outputId": "33075061-d528-4fd0-9583-ea2e70aa99ea",
        "colab": {
          "base_uri": "https://localhost:8080/",
          "height": 450
        }
      },
      "outputs": [
        {
          "output_type": "display_data",
          "data": {
            "text/plain": [
              "<Figure size 640x480 with 1 Axes>"
            ],
            "image/png": "[encoded data removed]"
          },
          "metadata": {}
        }
      ],
      "source": [
        "%matplotlib inline\n",
        "import matplotlib.pyplot as plt\n",
        "import numpy as np\n",
        "\n",
        "# selecciona setosa y versicolor\n",
        "y = df.iloc[0:100, 4].values\n",
        "y = np.where(y == 'Iris-setosa', -1, 1)#y tomará el valor -1 si es iris setosa, o 1, si no lo es.\n",
        "\n",
        "# extrae longitud del sépalo y del pétalo\n",
        "X = df.iloc[0:100, [0, 2]].values\n",
        "\n",
        "# pintando los datos\n",
        "plt.scatter(X[:50, 0], X[:50, 1],#porque las 50 primeras son setosa\n",
        "            color='red', marker='o', label='setosa')\n",
        "plt.scatter(X[50:100, 0], X[50:100, 1],\n",
        "            color='blue', marker='x', label='versicolor')\n",
        "\n",
        "plt.xlabel('logitud del sépalo [cm]')\n",
        "plt.ylabel('longitud del pétalo [cm]')\n",
        "plt.legend(loc='upper left')\n",
        "\n",
        "# plt.savefig('images/02_06.png', dpi=300)\n",
        "plt.show()"
      ]
    },
    {
      "cell_type": "markdown",
      "metadata": {
        "id": "mBUo_C0E-4VL"
      },
      "source": [
        "### Entrenando el modelo Perceptrón"
      ]
    },
    {
      "cell_type": "code",
      "execution_count": 7,
      "metadata": {
        "id": "NbYyBIEC-4VM",
        "outputId": "54bde98d-4019-43b1-a3b6-5807e89135b8",
        "colab": {
          "base_uri": "https://localhost:8080/",
          "height": 451
        }
      },
      "outputs": [
        {
          "output_type": "display_data",
          "data": {
            "text/plain": [
              "<Figure size 640x480 with 1 Axes>"
            ],
            "image/png": "[encoded data removed]"
          },
          "metadata": {}
        }
      ],
      "source": [
        "ppn = Perceptron(0.1, 10)\n",
        "\n",
        "ppn.fit(X, y)\n",
        "\n",
        "plt.plot(range(1, len(ppn.errors_) + 1), ppn.errors_, marker='o')\n",
        "plt.xlabel('Épocas')\n",
        "plt.ylabel('Número de actualizaciones')\n",
        "\n",
        "# plt.savefig('images/02_07.png', dpi=300)\n",
        "plt.show()"
      ]
    },
    {
      "cell_type": "markdown",
      "metadata": {
        "id": "_65mqGmt-4VM"
      },
      "source": [
        "### EJERCICIO 3: EXPLICA LA GRÁFICA ANTERIOR <<<<<--------------------"
      ]
    },
    {
      "cell_type": "markdown",
      "source": [
        "En está gráfica el eje vertical son los errores tras llamar a la clase perceptrón. errors_ es una lista que almacena el número de clasificaciónes erroneas en cada una de las épocas de entrenamiento. Se puede apreciar que a partir de la época 3, las clasificaciones erróneas comienzan a bajar hasta la sexta época, a partir de la cual se mantienen en 0."
      ],
      "metadata": {
        "id": "Tn-SdfiiiPCF"
      }
    },
    {
      "cell_type": "markdown",
      "metadata": {
        "id": "_uOknlKM-4VM"
      },
      "source": [
        "### Una función para pintar las regiones de decisión"
      ]
    },
    {
      "cell_type": "code",
      "execution_count": 8,
      "metadata": {
        "tags": [],
        "id": "AeVH6qmE-4VM"
      },
      "outputs": [],
      "source": [
        "from matplotlib.colors import ListedColormap\n",
        "\n",
        "\n",
        "def plot_decision_regions(X, y, classifier, resolution=0.02):\n",
        "\n",
        "    # configuramos el generador de marcadores y mapa da colores\n",
        "    markers = ('s', 'x', 'o', '^', 'v')\n",
        "    colors = ('red', 'blue', 'lightgreen', 'gray', 'cyan')\n",
        "    cmap = ListedColormap(colors[:len(np.unique(y))])#unique devuelve los valores únicos de un array (creo\n",
        "    #que en este caso serán solo -1 y 1, ¿no?)\n",
        "\n",
        "    # traza/pinta la superficie de decisión\n",
        "    x1_min, x1_max = X[:, 0].min() - 1, X[:, 0].max() + 1 #creo que es el menor sépalo -1 y el mayor sépalo +1\n",
        "    x2_min, x2_max = X[:, 1].min() - 1, X[:, 1].max() + 1 #igual con el pétalo\n",
        "    xx1, xx2 = np.meshgrid(np.arange(x1_min, x1_max, resolution),#arrange será un vector que vaya desde x1_min hasta x1_max\n",
        "    #en pasos resolution. Lo que hace meshgrid es a partir de todos los puntos de ese vector,\n",
        "    #crear el area que forma el cuadrado que los une. meshgrid devolverá em xx1 una matriz con las coordenadas x de todos\n",
        "    #los puntos en el cuadrado formado por los minimos y los maximos y xx2 las coordenadas y\n",
        "                           np.arange(x2_min, x2_max, resolution))\n",
        "    Z = classifier.predict(np.array([xx1.ravel(), xx2.ravel()]).T)#ravel \"aplana\" matrices a un vector de una dimension\n",
        "    #classifier predice las clases de las muestras en el cuadrado\n",
        "    Z = Z.reshape(xx1.shape)#se impone que tenga la misma forma que xx1 (una matriz, creo)\n",
        "    plt.contourf(xx1, xx2, Z, alpha=0.3, cmap=cmap)#colorear las regiones xx1 y xx2 según z\n",
        "    plt.xlim(xx1.min(), xx1.max())\n",
        "    plt.ylim(xx2.min(), xx2.max())\n",
        "\n",
        "    # pinta las muestras de clase\n",
        "    for idx, cl in enumerate(np.unique(y)):\n",
        "        plt.scatter(x=X[y == cl, 0],\n",
        "                    y=X[y == cl, 1],\n",
        "                    alpha=0.8,\n",
        "                    c=colors[idx],\n",
        "                    marker=markers[idx],\n",
        "                    label=cl,\n",
        "                    edgecolor='black')"
      ]
    },
    {
      "cell_type": "code",
      "execution_count": 9,
      "metadata": {
        "id": "-GPsSfV8-4VM",
        "outputId": "7845f2da-f0be-4dc1-b41d-8e0feb8a7308",
        "colab": {
          "base_uri": "https://localhost:8080/",
          "height": 508
        }
      },
      "outputs": [
        {
          "output_type": "stream",
          "name": "stderr",
          "text": [
            "<ipython-input-8-bc1490b8a9a9>:29: UserWarning: You passed a edgecolor/edgecolors ('black') for an unfilled marker ('x').  Matplotlib is ignoring the edgecolor in favor of the facecolor.  This behavior may change in the future.\n",
            "  plt.scatter(x=X[y == cl, 0],\n"
          ]
        },
        {
          "output_type": "display_data",
          "data": {
            "text/plain": [
              "<Figure size 640x480 with 1 Axes>"
            ],
            "image/png": "[encoded data removed]"
          },
          "metadata": {}
        }
      ],
      "source": [
        "plot_decision_regions(X, y, classifier=ppn)\n",
        "plt.xlabel('longitud del sépalo [cm]')\n",
        "plt.ylabel('longitud del pétalo [cm]')\n",
        "plt.legend(loc='upper left')\n",
        "\n",
        "\n",
        "# plt.savefig('images/02_08.png', dpi=300)\n",
        "plt.show()"
      ]
    },
    {
      "cell_type": "markdown",
      "metadata": {
        "id": "OSuCvDP9-4VM"
      },
      "source": [
        "### EJERCICIO 4: EXPLICA LA GRÁFICA ANTERIOR <<<<<--------------------"
      ]
    },
    {
      "cell_type": "markdown",
      "source": [
        "En esta gráfica se ha llamado a la función plot_decision_regions con un conjunto de datos X que son los valores de los sépalos y los pétalos, e y, que son las etiquetas, todo esto utilizando la clase perceptrón previamente implementada.\n",
        "markers y colors nos ayudan a representar ambas clases en el gráfico, pero solo utilizaremos dos, ya que los valores de las etiquetas en el método perceptrón solo pueden tomar los valores 1 y -1. Hemos trazado los ejes x e y ayudándonos del menor y el mayor valor del pétalo y el sépalo. Utilizando .meshgrid, hemos creado un \"cuadrado\" a partir de las coordenadas de los datos entre el mínimo y el máximo tamaño del sépalo y pétalo.\n",
        "Usando ppn se predice la clase de cada dato en el cuadrado. Por último, usando contourf, se colorea toda la región según las predicciones almacenadas en z y finalmente se utiliza y para dibujar las muestras."
      ],
      "metadata": {
        "id": "QKAUtMFHYFSs"
      }
    },
    {
      "cell_type": "markdown",
      "metadata": {
        "id": "LqVyQFel-4VM"
      },
      "source": [
        "# Neurona lineales Adaptativas (ADALINE) y la convergencia del aprendizaje: Implementando una ADALINE en Python"
      ]
    },
    {
      "cell_type": "code",
      "execution_count": 10,
      "metadata": {
        "tags": [],
        "id": "2p4ShsRg-4VM"
      },
      "outputs": [],
      "source": [
        "class AdalineGD(object):\n",
        "    \"\"\"Clasificador ADptive LInear NEuron. ADALINE\n",
        "\n",
        "     Parámetros\n",
        "     ------------\n",
        "     eta: float\n",
        "       Tasa de aprendizaje (entre 0,0 y 1,0)\n",
        "     n_iter: int\n",
        "        Pasos sobre el conjunto de datos de entrenamiento.\n",
        "     random_state: int\n",
        "       Semilla del generador de números aleatorios para\n",
        "       inicialización de los pesos de forma aleatoria.\n",
        "\n",
        "     Atributos\n",
        "     -----------\n",
        "     w_: array-1d\n",
        "       Pesos después del entrenamiento.\n",
        "     cost_: list\n",
        "       Valor de la función de coste (suma de cuadrados) en cada época.\n",
        "\n",
        "     \"\"\"\n",
        "    def __init__(self, eta=0.01, n_iter=50, random_state=1):\n",
        "        self.eta = eta\n",
        "        self.n_iter = n_iter\n",
        "        self.random_state = random_state\n",
        "\n",
        "    def fit(self, X, y):\n",
        "        \"\"\" Ajustar pesos con los datos de entrenamiento.\n",
        "\n",
        "         Parámetros\n",
        "         ----------\n",
        "         X: {tipo-array}, shape = [n_samples, n_features]\n",
        "           Vectores de entrenamiento, donde n_samples es el número de muestras y\n",
        "           n_features es el número de características.\n",
        "         y: tipo-array, shape = [n_samples]\n",
        "           Valores objetivo.\n",
        "\n",
        "         Retorno\n",
        "         -------\n",
        "         self: objet\n",
        "\n",
        "         \"\"\"\n",
        "        rgen = np.random.RandomState(self.random_state)\n",
        "        self.w_ = rgen.normal(loc=0.0, scale=0.01, size=1 + X.shape[1])\n",
        "        self.cost_ = []\n",
        "\n",
        "        for i in range(self.n_iter):\n",
        "            net_input = self.net_input(X)\n",
        "            # Tened en cuenta que el método de \"activation\" no tiene ningún efecto\n",
        "            # en el código ya que es simplemente una función de identidad. Nosotros\n",
        "            # podría escribir `output = self.net_input(X)` directamente en su lugar.\n",
        "            # El propósito del activation es más conceptual, es decir,\n",
        "            # en el caso de la regresión logística, podríamos cambiarlo a\n",
        "            # una función sigmoidea para implementar un clasificador de regresión logística.\n",
        "            output = self.activation(net_input)\n",
        "            #errors = ### EJERCICIO 5: CALCULA EL ERROR <<<<<--------------------\n",
        "            errors = y - output\n",
        "            self.w_[1:] += self.eta * X.T.dot(errors)\n",
        "            self.w_[0] += self.eta * errors.sum()\n",
        "            cost = (errors**2).sum() / 2.0\n",
        "            self.cost_.append(cost)\n",
        "        return self\n",
        "\n",
        "    def net_input(self, X):\n",
        "        \"\"\"Calcular la entrada neta\"\"\"\n",
        "        return np.dot(X, self.w_[1:]) + self.w_[0]\n",
        "\n",
        "    def activation(self, X):\n",
        "        \"\"\"Computar la activación lineal\"\"\"\n",
        "        return X\n",
        "\n",
        "    def predict(self, X):\n",
        "        \"\"\"Devolver etiqueta de clase después del paso unitario\"\"\"\n",
        "        return np.where(self.activation(self.net_input(X)) >= 0.0, 1, -1)"
      ]
    },
    {
      "cell_type": "code",
      "execution_count": 16,
      "metadata": {
        "id": "7Oz4VnAi-4VN",
        "outputId": "46b69232-e164-45ed-cc18-ed7fe409f458",
        "colab": {
          "base_uri": "https://localhost:8080/",
          "height": 412
        }
      },
      "outputs": [
        {
          "output_type": "display_data",
          "data": {
            "text/plain": [
              "<Figure size 1000x400 with 2 Axes>"
            ],
            "image/png": "[encoded data removed]"
          },
          "metadata": {}
        }
      ],
      "source": [
        "fig, ax = plt.subplots(nrows=1, ncols=2, figsize=(10, 4))\n",
        "\n",
        "#ada1 = ### EJERCICIO 6: Crea y entrena con los datos de entrenamiento y sus etiquetas un Adaline de Gradiente Descendente\n",
        "       ### con 10 iteraciones y una tasa de aprendizaje de 0.01 <<<<<--------------------<<<<<--------------------<<<<<--------------------\n",
        "ada1 = AdalineGD(n_iter = 10, eta = 0.01)\n",
        "\n",
        "ada1.fit(X, y)\n",
        "\n",
        "ax[0].plot(range(1, len(ada1.cost_) + 1), np.log10(ada1.cost_), marker='o')\n",
        "ax[0].set_xlabel('Épocas')\n",
        "ax[0].set_ylabel('log(Sum-error cuadrático)')\n",
        "ax[0].set_title('Adaline - Learning rate 0.01')\n",
        "\n",
        "ada2 = AdalineGD(n_iter=10, eta=0.0001).fit(X, y)\n",
        "ax[1].plot(range(1, len(ada2.cost_) + 1), ada2.cost_, marker='o')\n",
        "ax[1].set_xlabel('Épocas')\n",
        "ax[1].set_ylabel('Sum-error-cuadrático')\n",
        "ax[1].set_title('Adaline - Learning rate 0.0001')\n",
        "\n",
        "# plt.savefig('images/02_11.png', dpi=300)\n",
        "plt.show()"
      ]
    },
    {
      "cell_type": "markdown",
      "metadata": {
        "id": "EZUIU0SU-4VN"
      },
      "source": [
        "### EJERCICIO 7: EXPLICA LAS DOS GRÁFICAS ANTERIORES <<<<<--------------------"
      ]
    },
    {
      "cell_type": "markdown",
      "source": [
        "En esta comparación de gráficas podemos ver la importancia de escoger una tasa de aprendizaje adecuada. En el primer caso se ve como al escoger una tasa de aprendizaje mayor es posible que dado que \"los pasos\" son muy grandes no se llegue a encontrar nunca el mínimo de la función, y consecuentemente que el error aumente en cada época. Por otro lado en la otra gráfica podemos ver que aunque la función converja muy lentamente, el error cuadrático sí que disminuye en cada época. Es importante no elegir una tasa demasiado pequeña porque necesitaríamos muchas más épocas y puede llegar a ser contraproducente a nivel de cómputo."
      ],
      "metadata": {
        "id": "G36suMiQqqtE"
      }
    },
    {
      "cell_type": "markdown",
      "metadata": {
        "id": "48cHCswS-4VN"
      },
      "source": [
        "## Mejorando el Gradiente Descendente con escalado de características"
      ]
    },
    {
      "cell_type": "code",
      "execution_count": null,
      "metadata": {
        "tags": [],
        "id": "3MA1FhjZ-4VN"
      },
      "outputs": [],
      "source": [
        "# Estandarizar características\n",
        "X_std = np.copy(X)\n",
        "X_std[:, 0] = ### EJERCICIO 8: ESTANDARIZA LAS CARACTERÍSTICAS <<<<<--------------------\n",
        "X_std[:, 1] = ### EJERCICIO 8: ESTANDARIZA LAS CARACTERÍSTICAS <<<<<--------------------"
      ]
    },
    {
      "cell_type": "code",
      "execution_count": null,
      "metadata": {
        "id": "tCKchjVl-4VN"
      },
      "outputs": [],
      "source": [
        "ada = AdalineGD(n_iter=15, eta=0.01)\n",
        "ada.fit(X_std, y)\n",
        "\n",
        "plot_decision_regions(X_std, y, classifier=ada)\n",
        "plt.title('Adaline - Descenso Gradiente')\n",
        "plt.xlabel('Longitud Sépalo [estandarizado]')\n",
        "plt.ylabel('Longitud Pétalo [estandarizado]')\n",
        "plt.legend(loc='upper left')\n",
        "plt.tight_layout()\n",
        "# plt.savefig('images/02_14_1.png', dpi=300)\n",
        "plt.show()\n",
        "\n",
        "plt.plot(range(1, len(ada.cost_) + 1), ada.cost_, marker='o')\n",
        "plt.xlabel('Épocas')\n",
        "plt.ylabel('Sum-error-cuadrático')\n",
        "\n",
        "plt.tight_layout()\n",
        "# plt.savefig('images/02_14_2.png', dpi=300)\n",
        "plt.show()"
      ]
    },
    {
      "cell_type": "markdown",
      "metadata": {
        "id": "QuUxadJg-4VN"
      },
      "source": [
        "### EJERCICIO 9: EXPLICA LAS DOS GRÁFICAS ANTERIORES <<<<<--------------------"
      ]
    },
    {
      "cell_type": "markdown",
      "metadata": {
        "id": "5zcDCkIM-4VN"
      },
      "source": [
        "## Aprendizaje Automático a Gran Escala y Descendiente de Gradiente Estocástico"
      ]
    },
    {
      "cell_type": "code",
      "execution_count": null,
      "metadata": {
        "tags": [],
        "id": "lTm2L3It-4VN"
      },
      "outputs": [],
      "source": [
        "class AdalineSGD(object):\n",
        "    \"\"\"Clasificador ADptive LInear NEuron. ADALINE\n",
        "\n",
        "     Parámetros\n",
        "     ------------\n",
        "     eta: float\n",
        "       Tasa de aprendizaje (entre 0,0 y 1,0)\n",
        "     n_iter: int\n",
        "        Pasos sobre el conjunto de datos de entrenamiento.\n",
        "     shuffle : bool (default: True)\n",
        "      Si es Verdadero, mezcla los datos de entrenamiento en cada época, para evitar ciclos.\n",
        "     random_state: int\n",
        "       Semilla del generador de números aleatorios para\n",
        "       inicialización de los pesos de forma aleatoria.\n",
        "\n",
        "     Atributos\n",
        "     -----------\n",
        "     w_: array-1d\n",
        "       Pesos después del entrenamiento.\n",
        "     cost_: list\n",
        "       Valor de la función de coste (suma de cuadrados) promediado sobre todas las muestras\n",
        "       de entrenamiento en cada época.\n",
        "\n",
        "     \"\"\"\n",
        "    def __init__(self, eta=0.01, n_iter=10, shuffle=True, random_state=None):\n",
        "        self.eta = eta\n",
        "        self.n_iter = n_iter\n",
        "        self.w_initialized = False\n",
        "        self.shuffle = shuffle\n",
        "        self.random_state = random_state\n",
        "\n",
        "    def fit(self, X, y):\n",
        "        \"\"\" Ajustar pesos con los datos de entrenamiento.\n",
        "\n",
        "         Parámetros\n",
        "         ----------\n",
        "         X: {tipo-array}, shape = [n_samples, n_features]\n",
        "           Vectores de entrenamiento, donde n_samples es el número de muestras y\n",
        "           n_features es el número de características.\n",
        "         y: tipo-array, shape = [n_samples]\n",
        "           Valores objetivo.\n",
        "\n",
        "         Retorno\n",
        "         -------\n",
        "         self: objet\n",
        "\n",
        "         \"\"\"\n",
        "        self._initialize_weights(X.shape[1])\n",
        "        self.cost_ = []\n",
        "        for i in range(self.n_iter):\n",
        "            if self.shuffle:\n",
        "                X, y = self._shuffle(X, y)\n",
        "            cost = []\n",
        "            for xi, target in zip(X, y):\n",
        "                cost.append(self._update_weights(xi, target))\n",
        "            avg_cost = sum(cost) / len(y)\n",
        "            self.cost_.append(avg_cost)\n",
        "        return self\n",
        "\n",
        "    def partial_fit(self, X, y):\n",
        "        \"\"\"Ajustar pesos con los datos de entrenamiento sin reinicializar los pesos\"\"\"\n",
        "        if not self.w_initialized:\n",
        "            self._initialize_weights(X.shape[1])\n",
        "        if y.ravel().shape[0] > 1:\n",
        "            for xi, target in zip(X, y):\n",
        "                self._update_weights(xi, target)\n",
        "        else:\n",
        "            self._update_weights(X, y)\n",
        "        return self\n",
        "\n",
        "    def _shuffle(self, X, y):\n",
        "        \"\"\"Mezclar los datos de entrenamiento\"\"\"\n",
        "        r = self.rgen.permutation(len(y))\n",
        "        return X[r], y[r]\n",
        "\n",
        "    def _initialize_weights(self, m):\n",
        "        \"\"\"Inicializar pesos con pequeños números aleatorios\"\"\"\n",
        "        self.rgen = np.random.RandomState(self.random_state)\n",
        "        self.w_ = self.rgen.normal(loc=0.0, scale=0.01, size=1 + m)\n",
        "        self.w_initialized = True\n",
        "\n",
        "    def _update_weights(self, xi, target):\n",
        "        \"\"\"Aplicar la regla de aprendizaje de Adaline para actualizar los pesos\"\"\"\n",
        "        output = self.activation(self.net_input(xi))\n",
        "        error = (target - output)\n",
        "        self.w_[1:] += self.eta * xi.dot(error)\n",
        "        self.w_[0] += self.eta * error\n",
        "        cost = 0.5 * error**2\n",
        "        return cost\n",
        "\n",
        "    def net_input(self, X):\n",
        "        \"\"\"Calcular la entrada neta\"\"\"\n",
        "        return np.dot(X, self.w_[1:]) + self.w_[0]\n",
        "\n",
        "    def activation(self, X):\n",
        "        \"\"\"Calcular la activación lineal\"\"\"\n",
        "        return X\n",
        "\n",
        "    def predict(self, X):\n",
        "        \"\"\"Devolver etiqueta de clase después del paso unitario\"\"\"\n",
        "        return np.where(self.activation(self.net_input(X)) >= 0.0, 1, -1)"
      ]
    },
    {
      "cell_type": "code",
      "execution_count": null,
      "metadata": {
        "id": "6teE2uIg-4VN"
      },
      "outputs": [],
      "source": [
        "ada = AdalineSGD(n_iter=15, eta=0.01, random_state=1)\n",
        "ada.fit(X_std, y)\n",
        "\n",
        "plot_decision_regions(X_std, y, classifier=ada)\n",
        "plt.title('Adaline - Gradiente Descendente Estocástico')\n",
        "plt.xlabel('Longitud Sépalo [estandarizado]')\n",
        "plt.ylabel('Longitud Pétalo [estandarizado]')\n",
        "plt.legend(loc='upper left')\n",
        "\n",
        "plt.tight_layout()\n",
        "# plt.savefig('images/02_15_1.png', dpi=300)\n",
        "plt.show()\n",
        "\n",
        "plt.plot(range(1, len(ada.cost_) + 1), ada.cost_, marker='o')\n",
        "plt.xlabel('Épocas')\n",
        "plt.ylabel('Coste Medio')\n",
        "\n",
        "plt.tight_layout()\n",
        "# plt.savefig('images/02_15_2.png', dpi=300)\n",
        "plt.show()"
      ]
    },
    {
      "cell_type": "markdown",
      "metadata": {
        "id": "e6AnjHPb-4VO"
      },
      "source": [
        "### EJERCICIO 10: EXPLICA LAS DOS GRÁFICAS ANTERIORES <<<<<--------------------"
      ]
    },
    {
      "cell_type": "code",
      "execution_count": null,
      "metadata": {
        "id": "S06B8zhd-4VO"
      },
      "outputs": [],
      "source": [
        "ada.partial_fit(X_std[0, :], y[0])"
      ]
    },
    {
      "cell_type": "markdown",
      "metadata": {
        "id": "gCQlUwc_-4VO"
      },
      "source": [
        "# Resumen"
      ]
    },
    {
      "cell_type": "code",
      "execution_count": null,
      "metadata": {
        "id": "MoXzpcUA-4VO"
      },
      "outputs": [],
      "source": [
        "! python ../.convert_notebook_to_script.py --input 2_4_Perceptron_y_Adaline.ipynb --output 2_4_Perceptron_y_Adaline.py"
      ]
    },
    {
      "cell_type": "code",
      "execution_count": null,
      "metadata": {
        "tags": [],
        "id": "8mqvXnbI-4VO"
      },
      "outputs": [],
      "source": []
    }
  ],
  "metadata": {
    "anaconda-cloud": {},
    "kernelspec": {
      "display_name": "Python 3 (ipykernel)",
      "language": "python",
      "name": "python3"
    },
    "language_info": {
      "codemirror_mode": {
        "name": "ipython",
        "version": 3
      },
      "file_extension": ".py",
      "mimetype": "text/x-python",
      "name": "python",
      "nbconvert_exporter": "python",
      "pygments_lexer": "ipython3",
      "version": "3.9.13"
    },
    "colab": {
      "provenance": []
    }
  },
  "nbformat": 4,
  "nbformat_minor": 0
}