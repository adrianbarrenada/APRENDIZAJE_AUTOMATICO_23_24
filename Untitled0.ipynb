{
  "nbformat": 4,
  "nbformat_minor": 0,
  "metadata": {
    "colab": {
      "provenance": [],
      "include_colab_link": true
    },
    "kernelspec": {
      "name": "python3",
      "display_name": "Python 3"
    },
    "language_info": {
      "name": "python"
    }
  },
  "cells": [
    {
      "cell_type": "markdown",
      "metadata": {
        "id": "view-in-github",
        "colab_type": "text"
      },
      "source": [
        "<a href=\"https://colab.research.google.com/github/adrianbarrenada/APRENDIZAJE_AUTOMATICO_23_24/blob/main/Untitled0.ipynb\" target=\"_parent\"><img src=\"https://colab.research.google.com/assets/colab-badge.svg\" alt=\"Open In Colab\"/></a>"
      ]
    },
    {
      "cell_type": "markdown",
      "source": [
        "GRUPO A04\n",
        "\n",
        "Pablo Ardila, Hugo López y Adrián Barreñada.\n",
        "##Practica 1##\n",
        "####Enunciado####\n",
        "Crea un modelo de Red de Neuronas Artificiales que sea capaz de reconocer y clasificar\n",
        "imágenes de ropa en sus diferentes tipologías. Este modelo será definido, configurado,\n",
        "entrenado, evaluado y mejorado para posteriormente usarlo para hacer predicciones.\n",
        "Para ello tendréis que crear un modelo en Keras aplicando de una tirada todos los pasos\n",
        "al conjunto de datos Fashion-MNIST, precargado en Keras y muy parecido al que vimos\n",
        "en clase de reconocimiento de cifras.\n",
        "Fashion-MNIST es un conjunto de datos de las imágenes de los artículos de Zalando\n",
        "(www.zalando.com), una tienda de moda online alemana especializada en ventas de\n",
        "ropa y zapatos. El conjunto de datos contiene 70K imágenes en escala de grises en 10\n",
        "categorías. Estas imágenes muestran prendas individuales de ropa en baja resolución\n",
        "(28 x 28 píxeles):\n",
        "Se usan 60K imágenes para entrenar la red y 10K imágenes para evaluar la precisión con\n",
        "la que la red aprende a clasificar las imágenes\n",
        "\n",
        "\n",
        "####Codigo de Resolución####\n",
        "Comenzamos declarando todas las librerías necesarias para poder trabajar con redes neuronales y para poder realizar nuestro código."
      ],
      "metadata": {
        "id": "4IZkY4oEXqlM"
      }
    },
    {
      "cell_type": "code",
      "source": [
        "import tensorflow as tf\n",
        "from tensorflow import keras\n",
        "from keras.datasets import fashion_mnist\n",
        "import numpy as np\n",
        "import matplotlib.pyplot as plt\n",
        "from keras import models\n",
        "from keras import layers\n",
        "from tensorflow.keras.layers import Flatten\n",
        "from keras.utils import to_categorical"
      ],
      "metadata": {
        "id": "0lKsVXfNYFnV"
      },
      "execution_count": null,
      "outputs": []
    },
    {
      "cell_type": "markdown",
      "source": [
        "Una vez cargadas las librerías necesarias nos disponemos a cargar los datos con los que vamos a trabajar, es decir las imágenes de las prendas de Zalando."
      ],
      "metadata": {
        "id": "Gfi6bgTdCv9w"
      }
    },
    {
      "cell_type": "code",
      "source": [
        "\n",
        "# Cargar los datos de fashion_mnist\n",
        "(train_images, train_labels), (test_images, test_labels) = fashion_mnist.load_data()"
      ],
      "metadata": {
        "colab": {
          "base_uri": "https://localhost:8080/"
        },
        "id": "QgZlP66UCq4k",
        "outputId": "75a58c99-0d16-475f-a7d7-af40e6cd4a7b"
      },
      "execution_count": null,
      "outputs": [
        {
          "output_type": "stream",
          "name": "stdout",
          "text": [
            "Downloading data from https://storage.googleapis.com/tensorflow/tf-keras-datasets/train-labels-idx1-ubyte.gz\n",
            "29515/29515 [==============================] - 0s 0us/step\n",
            "Downloading data from https://storage.googleapis.com/tensorflow/tf-keras-datasets/train-images-idx3-ubyte.gz\n",
            "26421880/26421880 [==============================] - 0s 0us/step\n",
            "Downloading data from https://storage.googleapis.com/tensorflow/tf-keras-datasets/t10k-labels-idx1-ubyte.gz\n",
            "5148/5148 [==============================] - 0s 0us/step\n",
            "Downloading data from https://storage.googleapis.com/tensorflow/tf-keras-datasets/t10k-images-idx3-ubyte.gz\n",
            "4422102/4422102 [==============================] - 0s 0us/step\n"
          ]
        }
      ]
    },
    {
      "cell_type": "markdown",
      "source": [
        "A continuación,  nos disponemos a analizar los datos. Ya que no los conocemos con exactitud, o si los conocemos con exactitud (como pone en el enunciado) debemos de confirmar que los datos cargados son los correctos y además debemos de comprobar de alguna forma antes de empezar el código que los datos esten bien etiquetados."
      ],
      "metadata": {
        "id": "B-iD7rSNCdno"
      }
    },
    {
      "cell_type": "code",
      "source": [
        "# Mostrar las dimensiones de las imágenes de entrenamiento y prueba\n",
        "print(train_images.shape)\n",
        "print(test_images.shape)\n",
        "print(train_labels[30001])"
      ],
      "metadata": {
        "colab": {
          "base_uri": "https://localhost:8080/"
        },
        "id": "xM1rt6a_ZURN",
        "outputId": "326da20d-aaa3-4123-9edf-0067b881a155"
      },
      "execution_count": null,
      "outputs": [
        {
          "output_type": "stream",
          "name": "stdout",
          "text": [
            "(60000, 28, 28)\n",
            "(10000, 28, 28)\n",
            "3\n"
          ]
        }
      ]
    },
    {
      "cell_type": "code",
      "source": [
        "# Instalar la librería numpy si no está instalada\n",
        "!pip install numpy"
      ],
      "metadata": {
        "colab": {
          "base_uri": "https://localhost:8080/"
        },
        "id": "Dkk-qPAJbVhc",
        "outputId": "fa765f20-89a2-47f7-f78b-820a8f730da1"
      },
      "execution_count": null,
      "outputs": [
        {
          "output_type": "stream",
          "name": "stdout",
          "text": [
            "Requirement already satisfied: numpy in /usr/local/lib/python3.10/dist-packages (1.23.5)\n"
          ]
        }
      ]
    },
    {
      "cell_type": "markdown",
      "source": [
        "En este primer vistazo, observamos que disponemos de 60000 imágenes de entrenamiento de un tamaño de 28x28 y de 10000 imágenes de test del mismo tamaño. Ahora, se mostrará una imagen cualquiera para ver como son las matrices con las que trabajamos"
      ],
      "metadata": {
        "id": "qF9-_WH7ESQa"
      }
    },
    {
      "cell_type": "code",
      "source": [
        "np.set_printoptions(linewidth=145)\n",
        "\n",
        "# Mostrar la etiqueta y la imagen de ejemplo\n",
        "print(train_labels[30001])  # etiqueta = 3 -> vestido\n",
        "print(np.matrix(train_images[30001]))"
      ],
      "metadata": {
        "colab": {
          "base_uri": "https://localhost:8080/"
        },
        "id": "x08ZPp54eROh",
        "outputId": "31a52c14-e2bd-4a2b-f594-cbed4f39c745"
      },
      "execution_count": null,
      "outputs": [
        {
          "output_type": "stream",
          "name": "stdout",
          "text": [
            "3\n",
            "[[  0   0   0   0   0   0   0   3   0  23  87   0   3   1   4   0  19  95   0   0   0   0   0   0   0   0   0   0]\n",
            " [  0   0   0   0   0   0   0   3   0  75 153   8   0   0   0   0  90 149   8   0   1   0   0   0   0   0   0   0]\n",
            " [  0   0   0   0   0   0   0   4   0  62 129 118  46   3   3  74 121 116  11   0   1   0   0   0   0   0   0   0]\n",
            " [  0   0   0   0   0   0   0   4   0  69 118 108 126 125 129 125 108 115  13   0   1   0   0   0   0   0   0   0]\n",
            " [  0   0   0   0   0   0   0   4   0  64 113  90  93  97  95  95 102 123  16   0   1   0   0   0   0   0   0   0]\n",
            " [  0   0   0   0   0   0   0   3   0  59 115  92  92  90  98  97  93 116  18   0   3   0   0   0   0   0   0   0]\n",
            " [  0   0   0   0   0   0   0   4   0  49 121  88  90  90  90  92  85 123  19   0   1   0   0   0   0   0   0   0]\n",
            " [  0   0   0   0   0   0   0   4   0  42 143  93  92  88  87  88  85 116  11   0   1   0   0   0   0   0   0   0]\n",
            " [  0   0   0   0   0   0   0   3   0  46 133  87  85  82  83  85  78 113   8   0   3   0   0   0   0   0   0   0]\n",
            " [  0   0   0   0   0   0   0   3   0  46 138  85  87  82  85  83  75 111   9   0   3   1   0   0   0   0   0   0]\n",
            " [  0   0   0   0   0   0   0   3   0  49 141  82  83  77  75  74  72 100  21   0   1   0   0   0   0   0   0   0]\n",
            " [  0   0   0   0   0   0   0   4   0  31 141  93 111 120 129 128 111 115  37   0   4   0   0   0   0   0   0   0]\n",
            " [  0   0   0   0   0   1   0   1   0 105 151 143 166 148 149 148 149 148 125   0   0   1   0   0   0   0   0   0]\n",
            " [  0   0   0   0   0   1   3   0  34 171 156 177 185 166 164 171 185 162 166  52   0   4   0   0   0   0   0   0]\n",
            " [  0   0   0   0   0   0   1   0 126 180 154 174 179 185 162 169 180 166 161 136   0   3   0   0   0   0   0   0]\n",
            " [  0   0   0   0   0   1   0   3 199 162 161 171 172 172 159 179 167 169 169 174   1   0   1   0   0   0   0   0]\n",
            " [  0   0   0   0   0   3   0  59 185 153 177 172 169 157 154 195 182 171 172 167  54   0   4   0   0   0   0   0]\n",
            " [  0   0   0   0   0   1   0 133 177 148 180 174 174 161 159 200 182 156 182 171 134   0   3   0   0   0   0   0]\n",
            " [  0   0   0   0   0   0   0 184 172 161 187 179 171 172 174 185 185 143 189 167 185   0   0   0   0   0   0   0]\n",
            " [  0   0   0   0   0   0  36 177 164 164 195 192 169 195 177 184 190 143 189 171 171  57   0   0   0   0   0   0]\n",
            " [  0   0   0   0   0   0  93 184 156 167 190 212 161 200 182 187 200 149 180 177 169 120   0   0   0   0   0   0]\n",
            " [  0   0   0   0   0   0 131 185 151 180 189 227 153 202 190 179 199 161 172 195 162 166   0   0   0   0   0   0]\n",
            " [  0   0   0   0   0   0 166 187 157 184 182 238 156 207 192 189 207 176 177 208 153 192   1   0   0   0   0   0]\n",
            " [  0   0   0   0   0  13 194 184 159 192 179 245 151 212 192 195 212 185 176 210 159 204  46   0   0   0   0   0]\n",
            " [  0   0   0   0   0  36 177 176 161 190 177 243 138 212 187 199 212 192 169 215 171 195  85   0   0   0   0   0]\n",
            " [  0   0   0   0   0  69 190 171 182 190 185 250 138 220 190 197 210 202 187 204 169 174 115   0   0   0   0   0]\n",
            " [  0   0   0   0   0  60 192 126 182 157 189 255 126 231 189 192 233 207 197 192 166 172 134   0   0   0   0   0]\n",
            " [  0   0   0   0   0   0  47  37  46  74 121 141  87 138  93  75 133  98 111  82  39  24   0   0   0   0   0   0]]\n"
          ]
        }
      ]
    },
    {
      "cell_type": "markdown",
      "source": [
        "Una vez visto con números, deberemos de imprimirlo de una forma más visible y clara. Para ello se prueba a imprimir con matplotlib:"
      ],
      "metadata": {
        "id": "tOXNhal5ei2H"
      }
    },
    {
      "cell_type": "code",
      "source": [
        "# Mostrar la imagen de ejemplo utilizando matplotlib\n",
        "prendaejemplo1 = train_images[30001]\n",
        "plt.imshow(prendaejemplo1, cmap=plt.cm.binary)\n",
        "plt.show()"
      ],
      "metadata": {
        "colab": {
          "base_uri": "https://localhost:8080/",
          "height": 430
        },
        "id": "qNorvwJcenvM",
        "outputId": "9944796f-6be7-4838-f1a1-7ad5e873f534"
      },
      "execution_count": null,
      "outputs": [
        {
          "output_type": "display_data",
          "data": {
            "text/plain": [
              "<Figure size 640x480 with 1 Axes>"
            ],
            "image/png": "[encoded data removed]"
          },
          "metadata": {}
        }
      ]
    },
    {
      "cell_type": "markdown",
      "source": [
        "Ahora pasamos a expresar la escala de grises de las imágenes de entrenamiento del 0 al 1 dividiéndolas entre 255, de esta forma el código es más sencillo para la computadora. Además expresaremos la etiqueta de cada una de las imágenes como un vector para que converja más rápido (one-hot encoding). Usaremos un float de 32 para no perder decimales ya que así será precisa  nuestra red a la hora de dividir entre 255"
      ],
      "metadata": {
        "id": "jcZ1y2c58RYx"
      }
    },
    {
      "cell_type": "code",
      "source": [
        "train_images = train_images.astype('float32')\n",
        "train_images = train_images / 255\n",
        "train_labels = to_categorical(train_labels)\n",
        "print(train_images.shape)\n",
        "print(train_labels[5])"
      ],
      "metadata": {
        "colab": {
          "base_uri": "https://localhost:8080/"
        },
        "id": "kF6JTaPR3AYe",
        "outputId": "e74f3b52-7129-42c4-8bbc-2833da7a8263"
      },
      "execution_count": null,
      "outputs": [
        {
          "output_type": "stream",
          "name": "stdout",
          "text": [
            "(60000, 28, 28)\n",
            "[0. 0. 1. 0. 0. 0. 0. 0. 0. 0.]\n"
          ]
        }
      ]
    },
    {
      "cell_type": "markdown",
      "source": [
        "Se sabe por el enunciado, que debemos de crear 8 redes de neuronas"
      ],
      "metadata": {
        "id": "rb-frdkZG0PZ"
      }
    },
    {
      "cell_type": "code",
      "source": [
        "\n",
        "red = [0, 0, 0, 0, 0, 0, 0, 0]\n",
        "\n",
        "matriz = [\n",
        "    [10, \"relu\", \"sgd\"],\n",
        "    [10, \"relu\", \"rmsprop\"],\n",
        "    [10, \"sigmoid\", \"sgd\"],\n",
        "    [10, \"sigmoid\", \"rmsprop\"],\n",
        "    [512, \"relu\", \"sgd\"],\n",
        "    [512, \"relu\", \"rmsprop\"],\n",
        "    [512, \"sigmoid\", \"sgd\"],\n",
        "    [512, \"sigmoid\", \"rmsprop\"]\n",
        "]\n",
        "\n",
        "def GenerateTrain (neuronas, act, opt, epocas):\n",
        "  red = models.Sequential()\n",
        "  red.add(Flatten(input_shape = (28,28)))\n",
        "  red.add(layers.Dense(neuronas, activation=act))\n",
        "  red.add(layers.Dense(10, activation = 'softmax'))\n",
        "  red.summary()\n",
        "\n",
        "  red.compile(optimizer= opt,loss='categorical_crossentropy',metrics=['accuracy'])#Define la funcion de perdida y la metrica que va a tener\n",
        "  entrenamiento = red.fit(train_images, train_labels, epochs=epocas, batch_size=128)\n",
        "  return red\n",
        "\n",
        "for i in range(len(red)):\n",
        "  print(\"CASO\", i+1, \":  \", matriz[i][0], \" \", matriz[i][1], \" \", matriz[i][2])\n",
        "  red[i] = GenerateTrain (matriz[i][0], matriz[i][1], matriz[i][2], 5)\n",
        "\n",
        "\n",
        "\n",
        "\n",
        "##for i in range(8):\n",
        "    #red[i] = models.Sequential()\n",
        "\n",
        "    # Capa de entrada\n",
        "    #red[i].add(layers.Flatten(matriz[i][0], activation=matriz[i][1], input_shape=(28 * 28, )))\n",
        "\n",
        "    # Capa de salida\n",
        "    #red[i].add(layers.Dense(10, activation='softmax'))\n",
        "\n",
        "    #red[i].summary()\n",
        "\n",
        "    #red[i].compile(optimizer=matriz[i][2], loss='categorical_crossentropy', metrics=['accuracy'])"
      ],
      "metadata": {
        "colab": {
          "base_uri": "https://localhost:8080/"
        },
        "id": "TCK6uDP8fTTM",
        "outputId": "3be5fb31-2080-4021-c1a1-67f715df6529"
      },
      "execution_count": null,
      "outputs": [
        {
          "output_type": "stream",
          "name": "stdout",
          "text": [
            "CASO 1 :   10   relu   sgd\n",
            "Model: \"sequential_67\"\n",
            "_________________________________________________________________\n",
            " Layer (type)                Output Shape              Param #   \n",
            "=================================================================\n",
            " flatten_67 (Flatten)        (None, 784)               0         \n",
            "                                                                 \n",
            " dense_134 (Dense)           (None, 10)                7850      \n",
            "                                                                 \n",
            " dense_135 (Dense)           (None, 10)                110       \n",
            "                                                                 \n",
            "=================================================================\n",
            "Total params: 7960 (31.09 KB)\n",
            "Trainable params: 7960 (31.09 KB)\n",
            "Non-trainable params: 0 (0.00 Byte)\n",
            "_________________________________________________________________\n",
            "Epoch 1/5\n",
            "469/469 [==============================] - 2s 3ms/step - loss: 1.3141 - accuracy: 0.5671\n",
            "Epoch 2/5\n",
            "469/469 [==============================] - 2s 4ms/step - loss: 0.8164 - accuracy: 0.7082\n",
            "Epoch 3/5\n",
            "469/469 [==============================] - 2s 4ms/step - loss: 0.7045 - accuracy: 0.7570\n",
            "Epoch 4/5\n",
            "469/469 [==============================] - 2s 5ms/step - loss: 0.6412 - accuracy: 0.7847\n",
            "Epoch 5/5\n",
            "469/469 [==============================] - 3s 5ms/step - loss: 0.5985 - accuracy: 0.7999\n",
            "CASO 2 :   10   relu   rmsprop\n",
            "Model: \"sequential_68\"\n",
            "_________________________________________________________________\n",
            " Layer (type)                Output Shape              Param #   \n",
            "=================================================================\n",
            " flatten_68 (Flatten)        (None, 784)               0         \n",
            "                                                                 \n",
            " dense_136 (Dense)           (None, 10)                7850      \n",
            "                                                                 \n",
            " dense_137 (Dense)           (None, 10)                110       \n",
            "                                                                 \n",
            "=================================================================\n",
            "Total params: 7960 (31.09 KB)\n",
            "Trainable params: 7960 (31.09 KB)\n",
            "Non-trainable params: 0 (0.00 Byte)\n",
            "_________________________________________________________________\n",
            "Epoch 1/5\n",
            "469/469 [==============================] - 3s 5ms/step - loss: 0.8660 - accuracy: 0.7093\n",
            "Epoch 2/5\n",
            "469/469 [==============================] - 2s 5ms/step - loss: 0.5317 - accuracy: 0.8188\n",
            "Epoch 3/5\n",
            "469/469 [==============================] - 2s 4ms/step - loss: 0.4827 - accuracy: 0.8351\n",
            "Epoch 4/5\n",
            "469/469 [==============================] - 3s 6ms/step - loss: 0.4609 - accuracy: 0.8403\n",
            "Epoch 5/5\n",
            "469/469 [==============================] - 3s 6ms/step - loss: 0.4459 - accuracy: 0.8448\n",
            "CASO 3 :   10   sigmoid   sgd\n",
            "Model: \"sequential_69\"\n",
            "_________________________________________________________________\n",
            " Layer (type)                Output Shape              Param #   \n",
            "=================================================================\n",
            " flatten_69 (Flatten)        (None, 784)               0         \n",
            "                                                                 \n",
            " dense_138 (Dense)           (None, 10)                7850      \n",
            "                                                                 \n",
            " dense_139 (Dense)           (None, 10)                110       \n",
            "                                                                 \n",
            "=================================================================\n",
            "Total params: 7960 (31.09 KB)\n",
            "Trainable params: 7960 (31.09 KB)\n",
            "Non-trainable params: 0 (0.00 Byte)\n",
            "_________________________________________________________________\n",
            "Epoch 1/5\n",
            "469/469 [==============================] - 3s 4ms/step - loss: 2.1876 - accuracy: 0.2624\n",
            "Epoch 2/5\n",
            "469/469 [==============================] - 2s 4ms/step - loss: 1.9172 - accuracy: 0.5008\n",
            "Epoch 3/5\n",
            "469/469 [==============================] - 1s 2ms/step - loss: 1.7033 - accuracy: 0.5653\n",
            "Epoch 4/5\n",
            "469/469 [==============================] - 1s 2ms/step - loss: 1.5311 - accuracy: 0.6329\n",
            "Epoch 5/5\n",
            "469/469 [==============================] - 1s 2ms/step - loss: 1.3956 - accuracy: 0.6744\n",
            "CASO 4 :   10   sigmoid   rmsprop\n",
            "Model: \"sequential_70\"\n",
            "_________________________________________________________________\n",
            " Layer (type)                Output Shape              Param #   \n",
            "=================================================================\n",
            " flatten_70 (Flatten)        (None, 784)               0         \n",
            "                                                                 \n",
            " dense_140 (Dense)           (None, 10)                7850      \n",
            "                                                                 \n",
            " dense_141 (Dense)           (None, 10)                110       \n",
            "                                                                 \n",
            "=================================================================\n",
            "Total params: 7960 (31.09 KB)\n",
            "Trainable params: 7960 (31.09 KB)\n",
            "Non-trainable params: 0 (0.00 Byte)\n",
            "_________________________________________________________________\n",
            "Epoch 1/5\n",
            "469/469 [==============================] - 2s 2ms/step - loss: 1.3543 - accuracy: 0.6333\n",
            "Epoch 2/5\n",
            "469/469 [==============================] - 1s 2ms/step - loss: 0.8311 - accuracy: 0.7652\n",
            "Epoch 3/5\n",
            "469/469 [==============================] - 1s 2ms/step - loss: 0.6407 - accuracy: 0.8066\n",
            "Epoch 4/5\n",
            "469/469 [==============================] - 1s 2ms/step - loss: 0.5509 - accuracy: 0.8238\n",
            "Epoch 5/5\n",
            "469/469 [==============================] - 1s 2ms/step - loss: 0.5041 - accuracy: 0.8335\n",
            "CASO 5 :   512   relu   sgd\n",
            "Model: \"sequential_71\"\n",
            "_________________________________________________________________\n",
            " Layer (type)                Output Shape              Param #   \n",
            "=================================================================\n",
            " flatten_71 (Flatten)        (None, 784)               0         \n",
            "                                                                 \n",
            " dense_142 (Dense)           (None, 512)               401920    \n",
            "                                                                 \n",
            " dense_143 (Dense)           (None, 10)                5130      \n",
            "                                                                 \n",
            "=================================================================\n",
            "Total params: 407050 (1.55 MB)\n",
            "Trainable params: 407050 (1.55 MB)\n",
            "Non-trainable params: 0 (0.00 Byte)\n",
            "_________________________________________________________________\n",
            "Epoch 1/5\n",
            "469/469 [==============================] - 6s 12ms/step - loss: 0.9946 - accuracy: 0.7093\n",
            "Epoch 2/5\n",
            "469/469 [==============================] - 4s 8ms/step - loss: 0.6504 - accuracy: 0.7951\n",
            "Epoch 3/5\n",
            "469/469 [==============================] - 4s 8ms/step - loss: 0.5768 - accuracy: 0.8145\n",
            "Epoch 4/5\n",
            "469/469 [==============================] - 5s 10ms/step - loss: 0.5368 - accuracy: 0.8235\n",
            "Epoch 5/5\n",
            "469/469 [==============================] - 5s 10ms/step - loss: 0.5107 - accuracy: 0.8310\n",
            "CASO 6 :   512   relu   rmsprop\n",
            "Model: \"sequential_72\"\n",
            "_________________________________________________________________\n",
            " Layer (type)                Output Shape              Param #   \n",
            "=================================================================\n",
            " flatten_72 (Flatten)        (None, 784)               0         \n",
            "                                                                 \n",
            " dense_144 (Dense)           (None, 512)               401920    \n",
            "                                                                 \n",
            " dense_145 (Dense)           (None, 10)                5130      \n",
            "                                                                 \n",
            "=================================================================\n",
            "Total params: 407050 (1.55 MB)\n",
            "Trainable params: 407050 (1.55 MB)\n",
            "Non-trainable params: 0 (0.00 Byte)\n",
            "_________________________________________________________________\n",
            "Epoch 1/5\n",
            "469/469 [==============================] - 5s 9ms/step - loss: 0.5547 - accuracy: 0.8025\n",
            "Epoch 2/5\n",
            "469/469 [==============================] - 5s 12ms/step - loss: 0.3862 - accuracy: 0.8584\n",
            "Epoch 3/5\n",
            "469/469 [==============================] - 4s 9ms/step - loss: 0.3400 - accuracy: 0.8752\n",
            "Epoch 4/5\n",
            "469/469 [==============================] - 4s 9ms/step - loss: 0.3143 - accuracy: 0.8841\n",
            "Epoch 5/5\n",
            "469/469 [==============================] - 6s 12ms/step - loss: 0.2950 - accuracy: 0.8905\n",
            "CASO 7 :   512   sigmoid   sgd\n",
            "Model: \"sequential_73\"\n",
            "_________________________________________________________________\n",
            " Layer (type)                Output Shape              Param #   \n",
            "=================================================================\n",
            " flatten_73 (Flatten)        (None, 784)               0         \n",
            "                                                                 \n",
            " dense_146 (Dense)           (None, 512)               401920    \n",
            "                                                                 \n",
            " dense_147 (Dense)           (None, 10)                5130      \n",
            "                                                                 \n",
            "=================================================================\n",
            "Total params: 407050 (1.55 MB)\n",
            "Trainable params: 407050 (1.55 MB)\n",
            "Non-trainable params: 0 (0.00 Byte)\n",
            "_________________________________________________________________\n",
            "Epoch 1/5\n",
            "469/469 [==============================] - 4s 9ms/step - loss: 1.7073 - accuracy: 0.5760\n",
            "Epoch 2/5\n",
            "469/469 [==============================] - 4s 10ms/step - loss: 1.1349 - accuracy: 0.7082\n",
            "Epoch 3/5\n",
            "469/469 [==============================] - 4s 8ms/step - loss: 0.9285 - accuracy: 0.7301\n",
            "Epoch 4/5\n",
            "469/469 [==============================] - 4s 8ms/step - loss: 0.8254 - accuracy: 0.7421\n",
            "Epoch 5/5\n",
            "469/469 [==============================] - 6s 13ms/step - loss: 0.7634 - accuracy: 0.7516\n",
            "CASO 8 :   512   sigmoid   rmsprop\n",
            "Model: \"sequential_74\"\n",
            "_________________________________________________________________\n",
            " Layer (type)                Output Shape              Param #   \n",
            "=================================================================\n",
            " flatten_74 (Flatten)        (None, 784)               0         \n",
            "                                                                 \n",
            " dense_148 (Dense)           (None, 512)               401920    \n",
            "                                                                 \n",
            " dense_149 (Dense)           (None, 10)                5130      \n",
            "                                                                 \n",
            "=================================================================\n",
            "Total params: 407050 (1.55 MB)\n",
            "Trainable params: 407050 (1.55 MB)\n",
            "Non-trainable params: 0 (0.00 Byte)\n",
            "_________________________________________________________________\n",
            "Epoch 1/5\n",
            "469/469 [==============================] - 5s 10ms/step - loss: 0.6112 - accuracy: 0.7855\n",
            "Epoch 2/5\n",
            "469/469 [==============================] - 6s 12ms/step - loss: 0.4476 - accuracy: 0.8384\n",
            "Epoch 3/5\n",
            "469/469 [==============================] - 4s 9ms/step - loss: 0.4092 - accuracy: 0.8519\n",
            "Epoch 4/5\n",
            "469/469 [==============================] - 4s 10ms/step - loss: 0.3849 - accuracy: 0.8611\n",
            "Epoch 5/5\n",
            "469/469 [==============================] - 6s 12ms/step - loss: 0.3662 - accuracy: 0.8672\n"
          ]
        }
      ]
    },
    {
      "cell_type": "markdown",
      "source": [
        "Mismo proceso para las imágenes de test:"
      ],
      "metadata": {
        "id": "Izijy-3grVKz"
      }
    },
    {
      "cell_type": "code",
      "source": [
        "test_images = test_images.reshape((10000, 28 * 28))\n",
        "test_images = test_images.astype('float32')\n",
        "test_images = test_images / 255\n",
        "print(test_images.shape)"
      ],
      "metadata": {
        "id": "fnX9mZhnrjqQ",
        "colab": {
          "base_uri": "https://localhost:8080/"
        },
        "outputId": "4518d4da-3fd1-4b33-b1e1-64f871fecb6d"
      },
      "execution_count": null,
      "outputs": [
        {
          "output_type": "stream",
          "name": "stdout",
          "text": [
            "(10000, 784)\n"
          ]
        }
      ]
    },
    {
      "cell_type": "markdown",
      "source": [
        "Volvemos a vectorizar las etiquetas de las imágenes de prueba."
      ],
      "metadata": {
        "id": "nEO4WBVesWWn"
      }
    },
    {
      "cell_type": "code",
      "source": [
        "test_labelsOH = to_categorical(test_labels)"
      ],
      "metadata": {
        "id": "Cg24lAtjuhEW"
      },
      "execution_count": null,
      "outputs": []
    },
    {
      "cell_type": "code",
      "source": [
        "print(test_labelsOH[68])"
      ],
      "metadata": {
        "colab": {
          "base_uri": "https://localhost:8080/"
        },
        "id": "Z0MeHfnHFIee",
        "outputId": "f5a81989-347d-4bd6-b2c6-0a6b5a8910b1"
      },
      "execution_count": null,
      "outputs": [
        {
          "output_type": "stream",
          "name": "stdout",
          "text": [
            "[0. 0. 0. 0. 0. 0. 0. 0. 0. 1.]\n"
          ]
        }
      ]
    },
    {
      "cell_type": "markdown",
      "source": [
        "Pasamos a probar con los datos de test:"
      ],
      "metadata": {
        "id": "STdh3hG8vSnx"
      }
    },
    {
      "cell_type": "code",
      "source": [
        "test_loss = [0,0,0,0,0,0,0,0]\n",
        "test_acc = [0,0,0,0,0,0,0,0]\n",
        "for i in range(8):\n",
        "  print(\"CASO \", i+1)\n",
        "  test_loss[i], test_acc[i] = red[i].evaluate(test_images, test_labelsOH)\n"
      ],
      "metadata": {
        "colab": {
          "base_uri": "https://localhost:8080/"
        },
        "id": "iQszx7ISvWTR",
        "outputId": "cf30d230-12ff-41bb-d86b-62d8b710d991"
      },
      "execution_count": null,
      "outputs": [
        {
          "output_type": "stream",
          "name": "stdout",
          "text": [
            "CASO  1\n",
            "313/313 [==============================] - 1s 2ms/step - loss: 84.0412 - accuracy: 0.7480\n",
            "CASO  2\n",
            "313/313 [==============================] - 1s 3ms/step - loss: 87.2759 - accuracy: 0.7924\n",
            "CASO  3\n",
            "313/313 [==============================] - 2s 4ms/step - loss: 1.2288 - accuracy: 0.6734\n",
            "CASO  4\n",
            "313/313 [==============================] - 1s 2ms/step - loss: 0.6220 - accuracy: 0.7961\n",
            "CASO  5\n",
            "313/313 [==============================] - 1s 4ms/step - loss: 64.5345 - accuracy: 0.8066\n",
            "CASO  6\n",
            "313/313 [==============================] - 2s 4ms/step - loss: 58.3206 - accuracy: 0.8618\n",
            "CASO  7\n",
            "313/313 [==============================] - 1s 3ms/step - loss: 1.6624 - accuracy: 0.6588\n",
            "CASO  8\n",
            "313/313 [==============================] - 1s 3ms/step - loss: 0.6131 - accuracy: 0.8126\n"
          ]
        }
      ]
    },
    {
      "cell_type": "markdown",
      "source": [
        "##Apartado 5 (sin terminar)"
      ],
      "metadata": {
        "id": "YLEu3zv9eqWi"
      }
    },
    {
      "cell_type": "code",
      "source": [
        "predictions = red[1].predict(test_images)\n",
        "print(predictions[5])"
      ],
      "metadata": {
        "colab": {
          "base_uri": "https://localhost:8080/"
        },
        "id": "iWLrdR4qlHlL",
        "outputId": "8e46f206-f821-4e76-84f5-ba5fd6fe5940"
      },
      "execution_count": null,
      "outputs": [
        {
          "output_type": "stream",
          "name": "stdout",
          "text": [
            "313/313 [==============================] - 1s 1ms/step\n",
            "[0.         0.99999994 0.         0.         0.         0.         0.         0.         0.         0.        ]\n"
          ]
        }
      ]
    },
    {
      "cell_type": "markdown",
      "source": [
        "##Apartado 6 (sin terminar)"
      ],
      "metadata": {
        "id": "DMIpxruEe_Z_"
      }
    },
    {
      "cell_type": "code",
      "source": [
        "def plot_image(i, predictions_array, true_label, img):\n",
        "  predictions_array, true_label, img = predictions_array, true_label[i], img[i]\n",
        "  plt.grid(False)\n",
        "  plt.xticks([])\n",
        "  plt.yticks([])\n",
        "\n",
        "  plt.imshow(img, cmap=plt.cm.binary)\n",
        "\n",
        "  predicted_label = np.argmax(predictions_array)\n",
        "  if predicted_label.all() == true_label.all():\n",
        "    color = 'blue'\n",
        "  else:\n",
        "    color = 'red'\n",
        "\n",
        "  plt.xlabel(\"{} {:2.0f}% ({})\".format(predicted_label,\n",
        "                                100*np.max(predictions_array),\n",
        "                                true_label),\n",
        "                                color=color)\n",
        "\n",
        "def plot_value_array(i, predictions_array, true_label):\n",
        "  predictions_array, true_label = predictions_array, true_label[i]\n",
        "  plt.grid(False)\n",
        "  plt.xticks(range(10))\n",
        "  plt.yticks([])\n",
        "  thisplot = plt.bar(range(10), predictions_array, color=\"#00FF00\")\n",
        "  plt.ylim([0, 1])\n",
        "  predicted_label = np.argmax(predictions_array)\n",
        "\n",
        "  thisplot[predicted_label].set_color('red')\n",
        "  thisplot[true_label].set_color('black')"
      ],
      "metadata": {
        "id": "g65jLFCq1DE-"
      },
      "execution_count": null,
      "outputs": []
    },
    {
      "cell_type": "code",
      "source": [
        "plt.figure(figsize=(6,3))\n",
        "plt.subplot(1,2,1)\n",
        "plot_image(i, predictions[i], test_labels, test_images.reshape(10000,28,28))\n",
        "plt.subplot(1,2,2)\n",
        "plot_value_array(i, predictions[i],  test_labels)\n",
        "plt.show()"
      ],
      "metadata": {
        "colab": {
          "base_uri": "https://localhost:8080/",
          "height": 291
        },
        "id": "XyPv6HiZbe16",
        "outputId": "a5a16a8e-1389-424f-adc9-2667914fac42"
      },
      "execution_count": null,
      "outputs": [
        {
          "output_type": "display_data",
          "data": {
            "text/plain": [
              "<Figure size 600x300 with 2 Axes>"
            ],
            "image/png": "[encoded data removed]"
          },
          "metadata": {}
        }
      ]
    },
    {
      "cell_type": "markdown",
      "source": [
        "##Apartado 3:"
      ],
      "metadata": {
        "id": "GlcC6d_EW3RP"
      }
    },
    {
      "cell_type": "code",
      "source": [
        "  print(\"CASO 2 con 25 épocas\")\n",
        "  red2a3 = GenerateTrain (matriz[1][0], matriz[1][1], matriz[1][2], 5*5)\n",
        "  print(\"CASO 7 con 25 épocas\")\n",
        "  red7a3 = GenerateTrain (matriz[6][0], matriz[6][1], matriz[6][2], 5*5)"
      ],
      "metadata": {
        "id": "i1ahBnZMox5s"
      },
      "execution_count": null,
      "outputs": []
    }
  ]
}