{
  "nbformat": 4,
  "nbformat_minor": 0,
  "metadata": {
    "colab": {
      "provenance": [],
      "authorship_tag": "ABX9TyNRpaDa8hHMf+m9yuCp+1AN",
      "include_colab_link": true
    },
    "kernelspec": {
      "name": "python3",
      "display_name": "Python 3"
    },
    "language_info": {
      "name": "python"
    }
  },
  "cells": [
    {
      "cell_type": "markdown",
      "metadata": {
        "id": "view-in-github",
        "colab_type": "text"
      },
      "source": [
        "<a href=\"https://colab.research.google.com/github/adrianbarrenada/APRENDIZAJE_AUTOMATICO_23_24/blob/main/Untitled0.ipynb\" target=\"_parent\"><img src=\"https://colab.research.google.com/assets/colab-badge.svg\" alt=\"Open In Colab\"/></a>"
      ]
    },
    {
      "cell_type": "markdown",
      "source": [
        "GRUPO A04\n",
        "\n",
        "Pablo Ardila, Hugo López y Adrián Barreñada.\n"
      ],
      "metadata": {
        "id": "4IZkY4oEXqlM"
      }
    },
    {
      "cell_type": "code",
      "source": [
        "import tensorflow as tf\n",
        "from tensorflow import keras\n",
        "from keras.datasets import fashion_mnist\n",
        "(train_images, train_labels), (test_images, test_labels) = fashion_mnist.load_data()"
      ],
      "metadata": {
        "colab": {
          "base_uri": "https://localhost:8080/"
        },
        "id": "0lKsVXfNYFnV",
        "outputId": "a034bd08-37e1-4388-e21f-80dbc2130d6b"
      },
      "execution_count": null,
      "outputs": [
        {
          "output_type": "stream",
          "name": "stdout",
          "text": [
            "Downloading data from https://storage.googleapis.com/tensorflow/tf-keras-datasets/train-labels-idx1-ubyte.gz\n",
            "29515/29515 [==============================] - 0s 0us/step\n",
            "Downloading data from https://storage.googleapis.com/tensorflow/tf-keras-datasets/train-images-idx3-ubyte.gz\n",
            "26421880/26421880 [==============================] - 0s 0us/step\n",
            "Downloading data from https://storage.googleapis.com/tensorflow/tf-keras-datasets/t10k-labels-idx1-ubyte.gz\n",
            "5148/5148 [==============================] - 0s 0us/step\n",
            "Downloading data from https://storage.googleapis.com/tensorflow/tf-keras-datasets/t10k-images-idx3-ubyte.gz\n",
            "4422102/4422102 [==============================] - 0s 0us/step\n"
          ]
        }
      ]
    },
    {
      "cell_type": "code",
      "source": [
        "print(train_images.shape)\n",
        "print(test_images.shape)"
      ],
      "metadata": {
        "colab": {
          "base_uri": "https://localhost:8080/"
        },
        "id": "xM1rt6a_ZURN",
        "outputId": "1823ad88-e464-4cc7-9f1c-9a8eb32a1f7d"
      },
      "execution_count": null,
      "outputs": [
        {
          "output_type": "stream",
          "name": "stdout",
          "text": [
            "(60000, 784)\n",
            "(10000, 28, 28)\n"
          ]
        }
      ]
    },
    {
      "cell_type": "code",
      "source": [
        "!pip install numpy\n",
        "import numpy as np"
      ],
      "metadata": {
        "colab": {
          "base_uri": "https://localhost:8080/"
        },
        "id": "Dkk-qPAJbVhc",
        "outputId": "dfa3c91a-9f04-4db1-ae84-82acaecbebff"
      },
      "execution_count": null,
      "outputs": [
        {
          "output_type": "stream",
          "name": "stdout",
          "text": [
            "Requirement already satisfied: numpy in /usr/local/lib/python3.10/dist-packages (1.23.5)\n"
          ]
        }
      ]
    },
    {
      "cell_type": "code",
      "source": [
        "np.set_printoptions(linewidth = 145)\n",
        "print(train_labels[30001]) # etiqueta = 3 -> vestido\n",
        "print(np.matrix(train_images[30001]))"
      ],
      "metadata": {
        "colab": {
          "base_uri": "https://localhost:8080/"
        },
        "id": "x08ZPp54eROh",
        "outputId": "1c6cba26-a906-4cec-9174-08411e33652c"
      },
      "execution_count": null,
      "outputs": [
        {
          "output_type": "stream",
          "name": "stdout",
          "text": [
            "3\n",
            "[[  0   0   0   0   0   0   0   3   0  23  87   0   3   1   4   0  19  95   0   0   0   0   0   0   0   0   0   0]\n",
            " [  0   0   0   0   0   0   0   3   0  75 153   8   0   0   0   0  90 149   8   0   1   0   0   0   0   0   0   0]\n",
            " [  0   0   0   0   0   0   0   4   0  62 129 118  46   3   3  74 121 116  11   0   1   0   0   0   0   0   0   0]\n",
            " [  0   0   0   0   0   0   0   4   0  69 118 108 126 125 129 125 108 115  13   0   1   0   0   0   0   0   0   0]\n",
            " [  0   0   0   0   0   0   0   4   0  64 113  90  93  97  95  95 102 123  16   0   1   0   0   0   0   0   0   0]\n",
            " [  0   0   0   0   0   0   0   3   0  59 115  92  92  90  98  97  93 116  18   0   3   0   0   0   0   0   0   0]\n",
            " [  0   0   0   0   0   0   0   4   0  49 121  88  90  90  90  92  85 123  19   0   1   0   0   0   0   0   0   0]\n",
            " [  0   0   0   0   0   0   0   4   0  42 143  93  92  88  87  88  85 116  11   0   1   0   0   0   0   0   0   0]\n",
            " [  0   0   0   0   0   0   0   3   0  46 133  87  85  82  83  85  78 113   8   0   3   0   0   0   0   0   0   0]\n",
            " [  0   0   0   0   0   0   0   3   0  46 138  85  87  82  85  83  75 111   9   0   3   1   0   0   0   0   0   0]\n",
            " [  0   0   0   0   0   0   0   3   0  49 141  82  83  77  75  74  72 100  21   0   1   0   0   0   0   0   0   0]\n",
            " [  0   0   0   0   0   0   0   4   0  31 141  93 111 120 129 128 111 115  37   0   4   0   0   0   0   0   0   0]\n",
            " [  0   0   0   0   0   1   0   1   0 105 151 143 166 148 149 148 149 148 125   0   0   1   0   0   0   0   0   0]\n",
            " [  0   0   0   0   0   1   3   0  34 171 156 177 185 166 164 171 185 162 166  52   0   4   0   0   0   0   0   0]\n",
            " [  0   0   0   0   0   0   1   0 126 180 154 174 179 185 162 169 180 166 161 136   0   3   0   0   0   0   0   0]\n",
            " [  0   0   0   0   0   1   0   3 199 162 161 171 172 172 159 179 167 169 169 174   1   0   1   0   0   0   0   0]\n",
            " [  0   0   0   0   0   3   0  59 185 153 177 172 169 157 154 195 182 171 172 167  54   0   4   0   0   0   0   0]\n",
            " [  0   0   0   0   0   1   0 133 177 148 180 174 174 161 159 200 182 156 182 171 134   0   3   0   0   0   0   0]\n",
            " [  0   0   0   0   0   0   0 184 172 161 187 179 171 172 174 185 185 143 189 167 185   0   0   0   0   0   0   0]\n",
            " [  0   0   0   0   0   0  36 177 164 164 195 192 169 195 177 184 190 143 189 171 171  57   0   0   0   0   0   0]\n",
            " [  0   0   0   0   0   0  93 184 156 167 190 212 161 200 182 187 200 149 180 177 169 120   0   0   0   0   0   0]\n",
            " [  0   0   0   0   0   0 131 185 151 180 189 227 153 202 190 179 199 161 172 195 162 166   0   0   0   0   0   0]\n",
            " [  0   0   0   0   0   0 166 187 157 184 182 238 156 207 192 189 207 176 177 208 153 192   1   0   0   0   0   0]\n",
            " [  0   0   0   0   0  13 194 184 159 192 179 245 151 212 192 195 212 185 176 210 159 204  46   0   0   0   0   0]\n",
            " [  0   0   0   0   0  36 177 176 161 190 177 243 138 212 187 199 212 192 169 215 171 195  85   0   0   0   0   0]\n",
            " [  0   0   0   0   0  69 190 171 182 190 185 250 138 220 190 197 210 202 187 204 169 174 115   0   0   0   0   0]\n",
            " [  0   0   0   0   0  60 192 126 182 157 189 255 126 231 189 192 233 207 197 192 166 172 134   0   0   0   0   0]\n",
            " [  0   0   0   0   0   0  47  37  46  74 121 141  87 138  93  75 133  98 111  82  39  24   0   0   0   0   0   0]]\n"
          ]
        }
      ]
    },
    {
      "cell_type": "markdown",
      "source": [
        "Ahora probamos a imprimir con matplotlib:"
      ],
      "metadata": {
        "id": "tOXNhal5ei2H"
      }
    },
    {
      "cell_type": "code",
      "source": [
        "import matplotlib.pyplot as plt\n",
        "prendaejemplo1 = train_images[0]\n",
        "plt.imshow(prendaejemplo1, cmap=plt.cm.binary)\n",
        "plt.show()"
      ],
      "metadata": {
        "colab": {
          "base_uri": "https://localhost:8080/",
          "height": 430
        },
        "id": "qNorvwJcenvM",
        "outputId": "b9dfbf6e-0fa3-4cb0-e10a-5e62a987d5ba"
      },
      "execution_count": null,
      "outputs": [
        {
          "output_type": "display_data",
          "data": {
            "text/plain": [
              "<Figure size 640x480 with 1 Axes>"
            ],
            "image/png": "[encoded data removed]"
          },
          "metadata": {}
        }
      ]
    },
    {
      "cell_type": "markdown",
      "source": [
        "##Caso 1:\n",
        "\n",
        "Nº de neuronas en la primera capa: 10\n",
        "\n",
        "Función de activación: `relu`\n",
        "\n",
        "Optimizador: `sgd`"
      ],
      "metadata": {
        "id": "EAxmYTH0gSCk"
      }
    },
    {
      "cell_type": "code",
      "source": [
        "from keras import models\n",
        "from keras import layers\n",
        "red = models.Sequential()\n",
        "#Capa de entrada:\n",
        "red.add(layers.Dense(10, activation = 'relu', input_shape = (28 * 28, )))\n",
        "#Capa de salida:\n",
        "red.add(layers.Dense(10, activation = 'softmax'))\n",
        "red.summary()\n",
        "red.compile(optimizer = 'sgd', loss = 'categorical_crossentropy', metrics = ['accuracy'])\n"
      ],
      "metadata": {
        "colab": {
          "base_uri": "https://localhost:8080/"
        },
        "id": "TCK6uDP8fTTM",
        "outputId": "95b77ddf-9904-4b07-a952-bd6a52068199"
      },
      "execution_count": null,
      "outputs": [
        {
          "output_type": "stream",
          "name": "stdout",
          "text": [
            "Model: \"sequential_4\"\n",
            "_________________________________________________________________\n",
            " Layer (type)                Output Shape              Param #   \n",
            "=================================================================\n",
            " dense_7 (Dense)             (None, 10)                7850      \n",
            "                                                                 \n",
            " dense_8 (Dense)             (None, 10)                110       \n",
            "                                                                 \n",
            "=================================================================\n",
            "Total params: 7960 (31.09 KB)\n",
            "Trainable params: 7960 (31.09 KB)\n",
            "Non-trainable params: 0 (0.00 Byte)\n",
            "_________________________________________________________________\n"
          ]
        }
      ]
    },
    {
      "cell_type": "markdown",
      "source": [
        "Ahora normalizamos los datos de las imágenes de entrenamiento para que el modelo converja más fácilmente:"
      ],
      "metadata": {
        "id": "EWKkeQN3psNa"
      }
    },
    {
      "cell_type": "code",
      "source": [
        "train_images = train_images.reshape((60000, 28 * 28))\n",
        "#hemos convertido las matrices de 28x28 en vectores de 784 valores\n",
        "train_images = train_images.astype('float32')\n",
        "#los convertimos a números en coma flotante para que no se pierda rigor en los datos\n",
        "train_images = train_images / 255\n",
        "#convertimos todos los elementos del vector a un valor entre el 0 y el 1 para que converja antes."
      ],
      "metadata": {
        "id": "mQF4CDh2p4Hb"
      },
      "execution_count": null,
      "outputs": []
    },
    {
      "cell_type": "markdown",
      "source": [
        "Mismo proceso para las imágenes de test:"
      ],
      "metadata": {
        "id": "Izijy-3grVKz"
      }
    },
    {
      "cell_type": "code",
      "source": [
        "test_images = test_images.reshape((10000, 28 * 28))\n",
        "test_images = test_images.astype('float32')\n",
        "test_images = test_images / 255"
      ],
      "metadata": {
        "id": "fnX9mZhnrjqQ"
      },
      "execution_count": null,
      "outputs": []
    },
    {
      "cell_type": "markdown",
      "source": [
        "Ahora usaremos el one-hot encoding para que cada etiqueta sea un vector de 9 ceros y 1 uno estando éste en la posición que corresponde al valor de la etiqueta original."
      ],
      "metadata": {
        "id": "nEO4WBVesWWn"
      }
    },
    {
      "cell_type": "code",
      "source": [
        "from keras import utils\n",
        "from keras.utils import to_categorical\n",
        "train_labels = to_categorical(train_labels)\n",
        "test_labels = to_categorical(test_labels)\n",
        "train_labels[30000]"
      ],
      "metadata": {
        "colab": {
          "base_uri": "https://localhost:8080/"
        },
        "id": "-GKPBEWEszJE",
        "outputId": "11c26c7c-58f6-4d98-d56e-f704e13fb89e"
      },
      "execution_count": null,
      "outputs": [
        {
          "output_type": "execute_result",
          "data": {
            "text/plain": [
              "array([[[[[[1., 0.],\n",
              "           [0., 1.]],\n",
              "\n",
              "          [[0., 1.],\n",
              "           [1., 0.]]],\n",
              "\n",
              "\n",
              "         [[[0., 1.],\n",
              "           [1., 0.]],\n",
              "\n",
              "          [[1., 0.],\n",
              "           [0., 1.]]]],\n",
              "\n",
              "\n",
              "\n",
              "        [[[[0., 1.],\n",
              "           [1., 0.]],\n",
              "\n",
              "          [[1., 0.],\n",
              "           [0., 1.]]],\n",
              "\n",
              "\n",
              "         [[[1., 0.],\n",
              "           [0., 1.]],\n",
              "\n",
              "          [[0., 1.],\n",
              "           [1., 0.]]]]],\n",
              "\n",
              "\n",
              "\n",
              "\n",
              "       [[[[[1., 0.],\n",
              "           [0., 1.]],\n",
              "\n",
              "          [[0., 1.],\n",
              "           [1., 0.]]],\n",
              "\n",
              "\n",
              "         [[[0., 1.],\n",
              "           [1., 0.]],\n",
              "\n",
              "          [[1., 0.],\n",
              "           [0., 1.]]]],\n",
              "\n",
              "\n",
              "\n",
              "        [[[[0., 1.],\n",
              "           [1., 0.]],\n",
              "\n",
              "          [[1., 0.],\n",
              "           [0., 1.]]],\n",
              "\n",
              "\n",
              "         [[[1., 0.],\n",
              "           [0., 1.]],\n",
              "\n",
              "          [[0., 1.],\n",
              "           [1., 0.]]]]],\n",
              "\n",
              "\n",
              "\n",
              "\n",
              "       [[[[[1., 0.],\n",
              "           [0., 1.]],\n",
              "\n",
              "          [[0., 1.],\n",
              "           [1., 0.]]],\n",
              "\n",
              "\n",
              "         [[[0., 1.],\n",
              "           [1., 0.]],\n",
              "\n",
              "          [[1., 0.],\n",
              "           [0., 1.]]]],\n",
              "\n",
              "\n",
              "\n",
              "        [[[[0., 1.],\n",
              "           [1., 0.]],\n",
              "\n",
              "          [[1., 0.],\n",
              "           [0., 1.]]],\n",
              "\n",
              "\n",
              "         [[[1., 0.],\n",
              "           [0., 1.]],\n",
              "\n",
              "          [[0., 1.],\n",
              "           [1., 0.]]]]],\n",
              "\n",
              "\n",
              "\n",
              "\n",
              "       [[[[[0., 1.],\n",
              "           [1., 0.]],\n",
              "\n",
              "          [[1., 0.],\n",
              "           [0., 1.]]],\n",
              "\n",
              "\n",
              "         [[[1., 0.],\n",
              "           [0., 1.]],\n",
              "\n",
              "          [[0., 1.],\n",
              "           [1., 0.]]]],\n",
              "\n",
              "\n",
              "\n",
              "        [[[[1., 0.],\n",
              "           [0., 1.]],\n",
              "\n",
              "          [[0., 1.],\n",
              "           [1., 0.]]],\n",
              "\n",
              "\n",
              "         [[[0., 1.],\n",
              "           [1., 0.]],\n",
              "\n",
              "          [[1., 0.],\n",
              "           [0., 1.]]]]],\n",
              "\n",
              "\n",
              "\n",
              "\n",
              "       [[[[[1., 0.],\n",
              "           [0., 1.]],\n",
              "\n",
              "          [[0., 1.],\n",
              "           [1., 0.]]],\n",
              "\n",
              "\n",
              "         [[[0., 1.],\n",
              "           [1., 0.]],\n",
              "\n",
              "          [[1., 0.],\n",
              "           [0., 1.]]]],\n",
              "\n",
              "\n",
              "\n",
              "        [[[[0., 1.],\n",
              "           [1., 0.]],\n",
              "\n",
              "          [[1., 0.],\n",
              "           [0., 1.]]],\n",
              "\n",
              "\n",
              "         [[[1., 0.],\n",
              "           [0., 1.]],\n",
              "\n",
              "          [[0., 1.],\n",
              "           [1., 0.]]]]],\n",
              "\n",
              "\n",
              "\n",
              "\n",
              "       [[[[[1., 0.],\n",
              "           [0., 1.]],\n",
              "\n",
              "          [[0., 1.],\n",
              "           [1., 0.]]],\n",
              "\n",
              "\n",
              "         [[[0., 1.],\n",
              "           [1., 0.]],\n",
              "\n",
              "          [[1., 0.],\n",
              "           [0., 1.]]]],\n",
              "\n",
              "\n",
              "\n",
              "        [[[[0., 1.],\n",
              "           [1., 0.]],\n",
              "\n",
              "          [[1., 0.],\n",
              "           [0., 1.]]],\n",
              "\n",
              "\n",
              "         [[[1., 0.],\n",
              "           [0., 1.]],\n",
              "\n",
              "          [[0., 1.],\n",
              "           [1., 0.]]]]],\n",
              "\n",
              "\n",
              "\n",
              "\n",
              "       [[[[[1., 0.],\n",
              "           [0., 1.]],\n",
              "\n",
              "          [[0., 1.],\n",
              "           [1., 0.]]],\n",
              "\n",
              "\n",
              "         [[[0., 1.],\n",
              "           [1., 0.]],\n",
              "\n",
              "          [[1., 0.],\n",
              "           [0., 1.]]]],\n",
              "\n",
              "\n",
              "\n",
              "        [[[[0., 1.],\n",
              "           [1., 0.]],\n",
              "\n",
              "          [[1., 0.],\n",
              "           [0., 1.]]],\n",
              "\n",
              "\n",
              "         [[[1., 0.],\n",
              "           [0., 1.]],\n",
              "\n",
              "          [[0., 1.],\n",
              "           [1., 0.]]]]],\n",
              "\n",
              "\n",
              "\n",
              "\n",
              "       [[[[[1., 0.],\n",
              "           [0., 1.]],\n",
              "\n",
              "          [[0., 1.],\n",
              "           [1., 0.]]],\n",
              "\n",
              "\n",
              "         [[[0., 1.],\n",
              "           [1., 0.]],\n",
              "\n",
              "          [[1., 0.],\n",
              "           [0., 1.]]]],\n",
              "\n",
              "\n",
              "\n",
              "        [[[[0., 1.],\n",
              "           [1., 0.]],\n",
              "\n",
              "          [[1., 0.],\n",
              "           [0., 1.]]],\n",
              "\n",
              "\n",
              "         [[[1., 0.],\n",
              "           [0., 1.]],\n",
              "\n",
              "          [[0., 1.],\n",
              "           [1., 0.]]]]],\n",
              "\n",
              "\n",
              "\n",
              "\n",
              "       [[[[[1., 0.],\n",
              "           [0., 1.]],\n",
              "\n",
              "          [[0., 1.],\n",
              "           [1., 0.]]],\n",
              "\n",
              "\n",
              "         [[[0., 1.],\n",
              "           [1., 0.]],\n",
              "\n",
              "          [[1., 0.],\n",
              "           [0., 1.]]]],\n",
              "\n",
              "\n",
              "\n",
              "        [[[[0., 1.],\n",
              "           [1., 0.]],\n",
              "\n",
              "          [[1., 0.],\n",
              "           [0., 1.]]],\n",
              "\n",
              "\n",
              "         [[[1., 0.],\n",
              "           [0., 1.]],\n",
              "\n",
              "          [[0., 1.],\n",
              "           [1., 0.]]]]],\n",
              "\n",
              "\n",
              "\n",
              "\n",
              "       [[[[[1., 0.],\n",
              "           [0., 1.]],\n",
              "\n",
              "          [[0., 1.],\n",
              "           [1., 0.]]],\n",
              "\n",
              "\n",
              "         [[[0., 1.],\n",
              "           [1., 0.]],\n",
              "\n",
              "          [[1., 0.],\n",
              "           [0., 1.]]]],\n",
              "\n",
              "\n",
              "\n",
              "        [[[[0., 1.],\n",
              "           [1., 0.]],\n",
              "\n",
              "          [[1., 0.],\n",
              "           [0., 1.]]],\n",
              "\n",
              "\n",
              "         [[[1., 0.],\n",
              "           [0., 1.]],\n",
              "\n",
              "          [[0., 1.],\n",
              "           [1., 0.]]]]]], dtype=float32)"
            ]
          },
          "metadata": {},
          "execution_count": 35
        }
      ]
    }
  ]
}